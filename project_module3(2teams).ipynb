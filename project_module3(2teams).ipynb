{
 "cells": [
  {
   "cell_type": "code",
   "execution_count": 1,
   "metadata": {},
   "outputs": [],
   "source": [
    "import operator\n",
    "import pandas as pd\n",
    "import numpy as np\n",
    "import matplotlib.pyplot as plt\n",
    "import xgboost as xgb\n",
    "import seaborn as sns\n",
    "%matplotlib inline\n",
    "from sklearn.model_selection import train_test_split\n",
    "from sklearn.ensemble import RandomForestClassifier\n",
    "from sklearn.metrics import roc_auc_score\n",
    "from sklearn.ensemble import RandomForestRegressor\n",
    "from sklearn.datasets import make_regression\n",
    "import scikitplot as skplt\n",
    "from sklearn.linear_model import LogisticRegression\n",
    "from sklearn.preprocessing import scale\n",
    "from sklearn.decomposition import PCA\n",
    "from sklearn.feature_selection import SelectKBest\n",
    "from sklearn.pipeline import FeatureUnion\n",
    "from sklearn.metrics import classification_report\n",
    "from sklearn.feature_selection import chi2\n",
    "from sklearn.feature_selection import RFE\n",
    "from sklearn.metrics import mean_squared_error"
   ]
  },
  {
   "cell_type": "code",
   "execution_count": 77,
   "metadata": {},
   "outputs": [],
   "source": [
    "# tenemos 3 set datos con los cuales trabajaremos\n",
    "bluevsred = pd.read_csv('2020_bluevsred.csv')\n",
    "redvsblue = pd.read_csv('2020_redvsblue.csv')"
   ]
  },
  {
   "cell_type": "code",
   "execution_count": 5,
   "metadata": {},
   "outputs": [],
   "source": [
    "#Feature engineering"
   ]
  },
  {
   "cell_type": "code",
   "execution_count": 6,
   "metadata": {},
   "outputs": [
    {
     "data": {
      "text/html": [
       "<div>\n",
       "<style scoped>\n",
       "    .dataframe tbody tr th:only-of-type {\n",
       "        vertical-align: middle;\n",
       "    }\n",
       "\n",
       "    .dataframe tbody tr th {\n",
       "        vertical-align: top;\n",
       "    }\n",
       "\n",
       "    .dataframe thead th {\n",
       "        text-align: right;\n",
       "    }\n",
       "</style>\n",
       "<table border=\"1\" class=\"dataframe\">\n",
       "  <thead>\n",
       "    <tr style=\"text-align: right;\">\n",
       "      <th></th>\n",
       "      <th>year</th>\n",
       "      <th>playoffs</th>\n",
       "      <th>game</th>\n",
       "      <th>patch</th>\n",
       "      <th>playerid</th>\n",
       "      <th>gamelength</th>\n",
       "      <th>result</th>\n",
       "      <th>blue_kills</th>\n",
       "      <th>blue_deaths</th>\n",
       "      <th>blue_ assists</th>\n",
       "      <th>...</th>\n",
       "      <th>red_csat10</th>\n",
       "      <th>red_golddiffat10</th>\n",
       "      <th>red_xpdiffat10</th>\n",
       "      <th>red_csdiffat10</th>\n",
       "      <th>red_goldat15</th>\n",
       "      <th>red_xpat15</th>\n",
       "      <th>red_csat15</th>\n",
       "      <th>red_golddiffat15</th>\n",
       "      <th>red_xpdiffat15</th>\n",
       "      <th>red_csdiffat15</th>\n",
       "    </tr>\n",
       "  </thead>\n",
       "  <tbody>\n",
       "    <tr>\n",
       "      <th>0</th>\n",
       "      <td>2020</td>\n",
       "      <td>0</td>\n",
       "      <td>1</td>\n",
       "      <td>9.24</td>\n",
       "      <td>100</td>\n",
       "      <td>2220</td>\n",
       "      <td>1</td>\n",
       "      <td>17</td>\n",
       "      <td>11</td>\n",
       "      <td>33</td>\n",
       "      <td>...</td>\n",
       "      <td>322.0</td>\n",
       "      <td>-117.0</td>\n",
       "      <td>137.0</td>\n",
       "      <td>-8.0</td>\n",
       "      <td>22778.0</td>\n",
       "      <td>28884.0</td>\n",
       "      <td>519.0</td>\n",
       "      <td>825.0</td>\n",
       "      <td>1665.0</td>\n",
       "      <td>12.0</td>\n",
       "    </tr>\n",
       "    <tr>\n",
       "      <th>1</th>\n",
       "      <td>2020</td>\n",
       "      <td>0</td>\n",
       "      <td>2</td>\n",
       "      <td>9.24</td>\n",
       "      <td>100</td>\n",
       "      <td>2227</td>\n",
       "      <td>0</td>\n",
       "      <td>5</td>\n",
       "      <td>21</td>\n",
       "      <td>16</td>\n",
       "      <td>...</td>\n",
       "      <td>334.0</td>\n",
       "      <td>2014.0</td>\n",
       "      <td>2149.0</td>\n",
       "      <td>34.0</td>\n",
       "      <td>27198.0</td>\n",
       "      <td>31702.0</td>\n",
       "      <td>557.0</td>\n",
       "      <td>5484.0</td>\n",
       "      <td>4833.0</td>\n",
       "      <td>56.0</td>\n",
       "    </tr>\n",
       "    <tr>\n",
       "      <th>2</th>\n",
       "      <td>2020</td>\n",
       "      <td>0</td>\n",
       "      <td>3</td>\n",
       "      <td>9.24</td>\n",
       "      <td>100</td>\n",
       "      <td>1711</td>\n",
       "      <td>1</td>\n",
       "      <td>21</td>\n",
       "      <td>4</td>\n",
       "      <td>34</td>\n",
       "      <td>...</td>\n",
       "      <td>340.0</td>\n",
       "      <td>-682.0</td>\n",
       "      <td>-615.0</td>\n",
       "      <td>-25.0</td>\n",
       "      <td>22316.0</td>\n",
       "      <td>28252.0</td>\n",
       "      <td>531.0</td>\n",
       "      <td>-2566.0</td>\n",
       "      <td>-2097.0</td>\n",
       "      <td>-53.0</td>\n",
       "    </tr>\n",
       "    <tr>\n",
       "      <th>3</th>\n",
       "      <td>2020</td>\n",
       "      <td>0</td>\n",
       "      <td>4</td>\n",
       "      <td>9.24</td>\n",
       "      <td>100</td>\n",
       "      <td>1999</td>\n",
       "      <td>0</td>\n",
       "      <td>4</td>\n",
       "      <td>17</td>\n",
       "      <td>8</td>\n",
       "      <td>...</td>\n",
       "      <td>329.0</td>\n",
       "      <td>1579.0</td>\n",
       "      <td>858.0</td>\n",
       "      <td>21.0</td>\n",
       "      <td>24800.0</td>\n",
       "      <td>29157.0</td>\n",
       "      <td>535.0</td>\n",
       "      <td>2471.0</td>\n",
       "      <td>3064.0</td>\n",
       "      <td>70.0</td>\n",
       "    </tr>\n",
       "    <tr>\n",
       "      <th>4</th>\n",
       "      <td>2020</td>\n",
       "      <td>0</td>\n",
       "      <td>1</td>\n",
       "      <td>9.24</td>\n",
       "      <td>100</td>\n",
       "      <td>1812</td>\n",
       "      <td>0</td>\n",
       "      <td>3</td>\n",
       "      <td>21</td>\n",
       "      <td>7</td>\n",
       "      <td>...</td>\n",
       "      <td>325.0</td>\n",
       "      <td>747.0</td>\n",
       "      <td>313.0</td>\n",
       "      <td>-12.0</td>\n",
       "      <td>23767.0</td>\n",
       "      <td>29371.0</td>\n",
       "      <td>524.0</td>\n",
       "      <td>-877.0</td>\n",
       "      <td>-205.0</td>\n",
       "      <td>-26.0</td>\n",
       "    </tr>\n",
       "    <tr>\n",
       "      <th>...</th>\n",
       "      <td>...</td>\n",
       "      <td>...</td>\n",
       "      <td>...</td>\n",
       "      <td>...</td>\n",
       "      <td>...</td>\n",
       "      <td>...</td>\n",
       "      <td>...</td>\n",
       "      <td>...</td>\n",
       "      <td>...</td>\n",
       "      <td>...</td>\n",
       "      <td>...</td>\n",
       "      <td>...</td>\n",
       "      <td>...</td>\n",
       "      <td>...</td>\n",
       "      <td>...</td>\n",
       "      <td>...</td>\n",
       "      <td>...</td>\n",
       "      <td>...</td>\n",
       "      <td>...</td>\n",
       "      <td>...</td>\n",
       "      <td>...</td>\n",
       "    </tr>\n",
       "    <tr>\n",
       "      <th>5470</th>\n",
       "      <td>2020</td>\n",
       "      <td>1</td>\n",
       "      <td>4</td>\n",
       "      <td>10.16</td>\n",
       "      <td>100</td>\n",
       "      <td>1876</td>\n",
       "      <td>0</td>\n",
       "      <td>14</td>\n",
       "      <td>25</td>\n",
       "      <td>23</td>\n",
       "      <td>...</td>\n",
       "      <td>310.0</td>\n",
       "      <td>881.0</td>\n",
       "      <td>-657.0</td>\n",
       "      <td>-1.0</td>\n",
       "      <td>25854.0</td>\n",
       "      <td>29325.0</td>\n",
       "      <td>473.0</td>\n",
       "      <td>1280.0</td>\n",
       "      <td>815.0</td>\n",
       "      <td>24.0</td>\n",
       "    </tr>\n",
       "    <tr>\n",
       "      <th>5471</th>\n",
       "      <td>2020</td>\n",
       "      <td>1</td>\n",
       "      <td>1</td>\n",
       "      <td>10.16</td>\n",
       "      <td>100</td>\n",
       "      <td>1841</td>\n",
       "      <td>0</td>\n",
       "      <td>8</td>\n",
       "      <td>20</td>\n",
       "      <td>16</td>\n",
       "      <td>...</td>\n",
       "      <td>316.0</td>\n",
       "      <td>-658.0</td>\n",
       "      <td>-742.0</td>\n",
       "      <td>-31.0</td>\n",
       "      <td>24827.0</td>\n",
       "      <td>28963.0</td>\n",
       "      <td>535.0</td>\n",
       "      <td>567.0</td>\n",
       "      <td>315.0</td>\n",
       "      <td>-7.0</td>\n",
       "    </tr>\n",
       "    <tr>\n",
       "      <th>5472</th>\n",
       "      <td>2020</td>\n",
       "      <td>1</td>\n",
       "      <td>2</td>\n",
       "      <td>10.16</td>\n",
       "      <td>100</td>\n",
       "      <td>1597</td>\n",
       "      <td>1</td>\n",
       "      <td>15</td>\n",
       "      <td>5</td>\n",
       "      <td>31</td>\n",
       "      <td>...</td>\n",
       "      <td>329.0</td>\n",
       "      <td>-606.0</td>\n",
       "      <td>-392.0</td>\n",
       "      <td>9.0</td>\n",
       "      <td>23629.0</td>\n",
       "      <td>28518.0</td>\n",
       "      <td>486.0</td>\n",
       "      <td>-1600.0</td>\n",
       "      <td>-1291.0</td>\n",
       "      <td>-1.0</td>\n",
       "    </tr>\n",
       "    <tr>\n",
       "      <th>5473</th>\n",
       "      <td>2020</td>\n",
       "      <td>1</td>\n",
       "      <td>3</td>\n",
       "      <td>10.16</td>\n",
       "      <td>100</td>\n",
       "      <td>1766</td>\n",
       "      <td>1</td>\n",
       "      <td>18</td>\n",
       "      <td>3</td>\n",
       "      <td>37</td>\n",
       "      <td>...</td>\n",
       "      <td>304.0</td>\n",
       "      <td>-1862.0</td>\n",
       "      <td>-1252.0</td>\n",
       "      <td>-45.0</td>\n",
       "      <td>22681.0</td>\n",
       "      <td>28496.0</td>\n",
       "      <td>498.0</td>\n",
       "      <td>-2793.0</td>\n",
       "      <td>-1547.0</td>\n",
       "      <td>-41.0</td>\n",
       "    </tr>\n",
       "    <tr>\n",
       "      <th>5474</th>\n",
       "      <td>2020</td>\n",
       "      <td>1</td>\n",
       "      <td>4</td>\n",
       "      <td>10.16</td>\n",
       "      <td>100</td>\n",
       "      <td>2154</td>\n",
       "      <td>1</td>\n",
       "      <td>14</td>\n",
       "      <td>11</td>\n",
       "      <td>31</td>\n",
       "      <td>...</td>\n",
       "      <td>307.0</td>\n",
       "      <td>884.0</td>\n",
       "      <td>118.0</td>\n",
       "      <td>-1.0</td>\n",
       "      <td>25895.0</td>\n",
       "      <td>28704.0</td>\n",
       "      <td>489.0</td>\n",
       "      <td>2330.0</td>\n",
       "      <td>-273.0</td>\n",
       "      <td>-14.0</td>\n",
       "    </tr>\n",
       "  </tbody>\n",
       "</table>\n",
       "<p>5475 rows × 130 columns</p>\n",
       "</div>"
      ],
      "text/plain": [
       "      year  playoffs  game  patch  playerid  gamelength  result  blue_kills  \\\n",
       "0     2020         0     1   9.24       100        2220       1          17   \n",
       "1     2020         0     2   9.24       100        2227       0           5   \n",
       "2     2020         0     3   9.24       100        1711       1          21   \n",
       "3     2020         0     4   9.24       100        1999       0           4   \n",
       "4     2020         0     1   9.24       100        1812       0           3   \n",
       "...    ...       ...   ...    ...       ...         ...     ...         ...   \n",
       "5470  2020         1     4  10.16       100        1876       0          14   \n",
       "5471  2020         1     1  10.16       100        1841       0           8   \n",
       "5472  2020         1     2  10.16       100        1597       1          15   \n",
       "5473  2020         1     3  10.16       100        1766       1          18   \n",
       "5474  2020         1     4  10.16       100        2154       1          14   \n",
       "\n",
       "      blue_deaths  blue_ assists  ...  red_csat10  red_golddiffat10  \\\n",
       "0              11             33  ...       322.0            -117.0   \n",
       "1              21             16  ...       334.0            2014.0   \n",
       "2               4             34  ...       340.0            -682.0   \n",
       "3              17              8  ...       329.0            1579.0   \n",
       "4              21              7  ...       325.0             747.0   \n",
       "...           ...            ...  ...         ...               ...   \n",
       "5470           25             23  ...       310.0             881.0   \n",
       "5471           20             16  ...       316.0            -658.0   \n",
       "5472            5             31  ...       329.0            -606.0   \n",
       "5473            3             37  ...       304.0           -1862.0   \n",
       "5474           11             31  ...       307.0             884.0   \n",
       "\n",
       "      red_xpdiffat10  red_csdiffat10  red_goldat15  red_xpat15  red_csat15  \\\n",
       "0              137.0            -8.0       22778.0     28884.0       519.0   \n",
       "1             2149.0            34.0       27198.0     31702.0       557.0   \n",
       "2             -615.0           -25.0       22316.0     28252.0       531.0   \n",
       "3              858.0            21.0       24800.0     29157.0       535.0   \n",
       "4              313.0           -12.0       23767.0     29371.0       524.0   \n",
       "...              ...             ...           ...         ...         ...   \n",
       "5470          -657.0            -1.0       25854.0     29325.0       473.0   \n",
       "5471          -742.0           -31.0       24827.0     28963.0       535.0   \n",
       "5472          -392.0             9.0       23629.0     28518.0       486.0   \n",
       "5473         -1252.0           -45.0       22681.0     28496.0       498.0   \n",
       "5474           118.0            -1.0       25895.0     28704.0       489.0   \n",
       "\n",
       "      red_golddiffat15  red_xpdiffat15  red_csdiffat15  \n",
       "0                825.0          1665.0            12.0  \n",
       "1               5484.0          4833.0            56.0  \n",
       "2              -2566.0         -2097.0           -53.0  \n",
       "3               2471.0          3064.0            70.0  \n",
       "4               -877.0          -205.0           -26.0  \n",
       "...                ...             ...             ...  \n",
       "5470            1280.0           815.0            24.0  \n",
       "5471             567.0           315.0            -7.0  \n",
       "5472           -1600.0         -1291.0            -1.0  \n",
       "5473           -2793.0         -1547.0           -41.0  \n",
       "5474            2330.0          -273.0           -14.0  \n",
       "\n",
       "[5475 rows x 130 columns]"
      ]
     },
     "execution_count": 6,
     "metadata": {},
     "output_type": "execute_result"
    }
   ],
   "source": [
    "numeric2teams = bluevsred._get_numeric_data()\n",
    "numeric2teams"
   ]
  },
  {
   "cell_type": "code",
   "execution_count": 8,
   "metadata": {},
   "outputs": [
    {
     "data": {
      "text/plain": [
       "year                 0\n",
       "playoffs             0\n",
       "game                 0\n",
       "patch                0\n",
       "playerid             0\n",
       "                    ..\n",
       "red_xpat15          71\n",
       "red_csat15          71\n",
       "red_golddiffat15    71\n",
       "red_xpdiffat15      71\n",
       "red_csdiffat15      71\n",
       "Length: 130, dtype: int64"
      ]
     },
     "execution_count": 8,
     "metadata": {},
     "output_type": "execute_result"
    }
   ],
   "source": [
    "numeric2teams.isnull().sum()"
   ]
  },
  {
   "cell_type": "code",
   "execution_count": 9,
   "metadata": {},
   "outputs": [
    {
     "data": {
      "text/plain": [
       "year                0\n",
       "playoffs            0\n",
       "game                0\n",
       "patch               0\n",
       "playerid            0\n",
       "                   ..\n",
       "red_xpat15          0\n",
       "red_csat15          0\n",
       "red_golddiffat15    0\n",
       "red_xpdiffat15      0\n",
       "red_csdiffat15      0\n",
       "Length: 130, dtype: int64"
      ]
     },
     "execution_count": 9,
     "metadata": {},
     "output_type": "execute_result"
    }
   ],
   "source": [
    "# rellenando nan values\n",
    "numeric2teams.fillna(numeric2teams.mean(), inplace=True)\n",
    "numeric2teams.isnull().sum()"
   ]
  },
  {
   "cell_type": "code",
   "execution_count": 11,
   "metadata": {},
   "outputs": [],
   "source": [
    "# tirando columnas totalmente vacias\n",
    "numeric2teams.dropna(axis=1, how='all', inplace=True)"
   ]
  },
  {
   "cell_type": "code",
   "execution_count": 13,
   "metadata": {},
   "outputs": [],
   "source": [
    "# change int64 to int 32\n",
    "numeric2teams32 = numeric2teams.astype(np.float32)"
   ]
  },
  {
   "cell_type": "code",
   "execution_count": 14,
   "metadata": {},
   "outputs": [],
   "source": [
    "variable_y = numeric2teams32['result']\n",
    "variables_x = numeric2teams32.loc[:, numeric2teams32.columns != 'result']"
   ]
  },
  {
   "cell_type": "code",
   "execution_count": 15,
   "metadata": {},
   "outputs": [
    {
     "name": "stdout",
     "output_type": "stream",
     "text": [
      "(4380, 129) (4380,) (1095, 129) (1095,)\n"
     ]
    }
   ],
   "source": [
    "# Separa en 80% train y 20% test\n",
    "X_train, X_test, y_train, y_test = train_test_split(variables_x, variable_y, test_size=0.2)#, random_state=0) (quitar parentesis)\n",
    "print(X_train.shape, y_train.shape, X_test.shape, y_test.shape)"
   ]
  },
  {
   "cell_type": "code",
   "execution_count": 16,
   "metadata": {},
   "outputs": [
    {
     "data": {
      "text/plain": [
       "RandomForestClassifier(n_jobs=2, random_state=0)"
      ]
     },
     "execution_count": 16,
     "metadata": {},
     "output_type": "execute_result"
    }
   ],
   "source": [
    "#primeros entrenamientos\n",
    "clasif = RandomForestClassifier(n_jobs=2, random_state=0)\n",
    "clasif.fit(X_train, y_train)"
   ]
  },
  {
   "cell_type": "code",
   "execution_count": 17,
   "metadata": {},
   "outputs": [],
   "source": [
    "preds = clasif.predict(X_test)"
   ]
  },
  {
   "cell_type": "code",
   "execution_count": 18,
   "metadata": {},
   "outputs": [
    {
     "data": {
      "text/html": [
       "<div>\n",
       "<style scoped>\n",
       "    .dataframe tbody tr th:only-of-type {\n",
       "        vertical-align: middle;\n",
       "    }\n",
       "\n",
       "    .dataframe tbody tr th {\n",
       "        vertical-align: top;\n",
       "    }\n",
       "\n",
       "    .dataframe thead th {\n",
       "        text-align: right;\n",
       "    }\n",
       "</style>\n",
       "<table border=\"1\" class=\"dataframe\">\n",
       "  <thead>\n",
       "    <tr style=\"text-align: right;\">\n",
       "      <th>Resultados predichos</th>\n",
       "      <th>0.0</th>\n",
       "      <th>1.0</th>\n",
       "    </tr>\n",
       "    <tr>\n",
       "      <th>Resultado Real</th>\n",
       "      <th></th>\n",
       "      <th></th>\n",
       "    </tr>\n",
       "  </thead>\n",
       "  <tbody>\n",
       "    <tr>\n",
       "      <th>0.0</th>\n",
       "      <td>506</td>\n",
       "      <td>2</td>\n",
       "    </tr>\n",
       "    <tr>\n",
       "      <th>1.0</th>\n",
       "      <td>4</td>\n",
       "      <td>583</td>\n",
       "    </tr>\n",
       "  </tbody>\n",
       "</table>\n",
       "</div>"
      ],
      "text/plain": [
       "Resultados predichos  0.0  1.0\n",
       "Resultado Real                \n",
       "0.0                   506    2\n",
       "1.0                     4  583"
      ]
     },
     "execution_count": 18,
     "metadata": {},
     "output_type": "execute_result"
    }
   ],
   "source": [
    "pd.crosstab(y_test, preds, rownames=['Resultado Real'], colnames= ['Resultados predichos'])"
   ]
  },
  {
   "cell_type": "code",
   "execution_count": 19,
   "metadata": {},
   "outputs": [
    {
     "data": {
      "text/plain": [
       "0.9946243410374385"
      ]
     },
     "execution_count": 19,
     "metadata": {},
     "output_type": "execute_result"
    }
   ],
   "source": [
    "# observamos que con esta regresion obtenemos una gran aproximacion\n",
    "roc_auc_score(y_test, preds)"
   ]
  },
  {
   "cell_type": "code",
   "execution_count": 20,
   "metadata": {},
   "outputs": [
    {
     "data": {
      "image/png": "[encoded data removed]",
      "text/plain": [
       "<Figure size 720x720 with 1 Axes>"
      ]
     },
     "metadata": {
      "needs_background": "light"
     },
     "output_type": "display_data"
    }
   ],
   "source": [
    "y_prob = np.concatenate(((1-preds).reshape(-1,1),preds.reshape(-1,1)), axis =1)\n",
    "skplt.metrics.plot_roc(y_test, y_prob,figsize=(10,10))\n",
    "plt.show()"
   ]
  },
  {
   "cell_type": "code",
   "execution_count": 21,
   "metadata": {},
   "outputs": [],
   "source": [
    "# aplicaremos un modelo de logistico de regresión\n",
    "# volvienod a separar en 4 el data set\n",
    "X_train, X_test, y_train, y_test = train_test_split(variables_x, variable_y, test_size=0.2) \n",
    "# Separa en 80% train y 20% test"
   ]
  },
  {
   "cell_type": "code",
   "execution_count": 22,
   "metadata": {},
   "outputs": [
    {
     "name": "stderr",
     "output_type": "stream",
     "text": [
      "C:\\Users\\Efrain\\AppData\\Roaming\\Python\\Python38\\site-packages\\sklearn\\linear_model\\_logistic.py:762: ConvergenceWarning: lbfgs failed to converge (status=1):\n",
      "STOP: TOTAL NO. of ITERATIONS REACHED LIMIT.\n",
      "\n",
      "Increase the number of iterations (max_iter) or scale the data as shown in:\n",
      "    https://scikit-learn.org/stable/modules/preprocessing.html\n",
      "Please also refer to the documentation for alternative solver options:\n",
      "    https://scikit-learn.org/stable/modules/linear_model.html#logistic-regression\n",
      "  n_iter_i = _check_optimize_result(\n"
     ]
    },
    {
     "data": {
      "text/plain": [
       "LogisticRegression()"
      ]
     },
     "execution_count": 22,
     "metadata": {},
     "output_type": "execute_result"
    }
   ],
   "source": [
    "logreg = LogisticRegression() # aqui ponemos todos los argumentos necesarios, si los tenemos\n",
    "# aqui hacemos la instancia de nuestro modelo\n",
    "logreg.fit(X_train,y_train) # despues lo entrenamos"
   ]
  },
  {
   "cell_type": "code",
   "execution_count": 23,
   "metadata": {},
   "outputs": [
    {
     "name": "stdout",
     "output_type": "stream",
     "text": [
      "La precision de nuestro modelo de clasificacion de regresion logistica es: 0.9926940639269406\n"
     ]
    }
   ],
   "source": [
    "y_pred = logreg.predict(X_test)\n",
    "print(f'La precision de nuestro modelo de clasificacion de regresion logistica es: {logreg.score(X_test, y_test)}')"
   ]
  },
  {
   "cell_type": "code",
   "execution_count": 24,
   "metadata": {},
   "outputs": [
    {
     "name": "stderr",
     "output_type": "stream",
     "text": [
      "C:\\Users\\Efrain\\AppData\\Roaming\\Python\\Python38\\site-packages\\sklearn\\preprocessing\\_data.py:174: UserWarning: Numerical issues were encountered when centering the data and might not be solved. Dataset may contain too large values. You may need to prescale your features.\n",
      "  warnings.warn(\"Numerical issues were encountered \"\n",
      "C:\\Users\\Efrain\\AppData\\Roaming\\Python\\Python38\\site-packages\\sklearn\\preprocessing\\_data.py:191: UserWarning: Numerical issues were encountered when scaling the data and might not be solved. The standard deviation of the data is probably very close to 0. \n",
      "  warnings.warn(\"Numerical issues were encountered \"\n"
     ]
    }
   ],
   "source": [
    "# aplicando un escalado\n",
    "#x = data.values --------> esta no sirve por que tiene todo el dataset\n",
    "x = variables_x.values #----------> este solo incluye las 20 observaciones, son las como las preguntas del examen\n",
    "x = scale(x)"
   ]
  },
  {
   "cell_type": "code",
   "execution_count": 26,
   "metadata": {},
   "outputs": [
    {
     "data": {
      "text/plain": [
       "130"
      ]
     },
     "execution_count": 26,
     "metadata": {},
     "output_type": "execute_result"
    }
   ],
   "source": [
    "# usamos PCA para una reduccion de columnas\n",
    "len(numeric2teams32.columns)"
   ]
  },
  {
   "cell_type": "code",
   "execution_count": 30,
   "metadata": {},
   "outputs": [],
   "source": [
    "# para saber cual es la cantidad de features que hay que pasar\n",
    "covar_matrix = PCA(n_components=129)"
   ]
  },
  {
   "cell_type": "code",
   "execution_count": 31,
   "metadata": {},
   "outputs": [],
   "source": [
    "covar_matrix.fit(x) # metemos las observaciones\n",
    "varianza = covar_matrix.explained_variance_ratio_\n",
    "\n",
    "var = np.cumsum(np.round(varianza, decimals=3)*100)\n",
    "# no debe empezar con el 100%"
   ]
  },
  {
   "cell_type": "code",
   "execution_count": 32,
   "metadata": {},
   "outputs": [
    {
     "data": {
      "text/plain": [
       "[<matplotlib.lines.Line2D at 0x1e244719730>]"
      ]
     },
     "execution_count": 32,
     "metadata": {},
     "output_type": "execute_result"
    },
    {
     "data": {
      "image/png": "[encoded data removed]",
      "text/plain": [
       "<Figure size 432x288 with 1 Axes>"
      ]
     },
     "metadata": {
      "needs_background": "light"
     },
     "output_type": "display_data"
    }
   ],
   "source": [
    "plt.ylabel('% de varianza explicada')\n",
    "plt.xlabel('# de features')\n",
    "plt.title('Analisis de PCA')\n",
    "plt.ylim(0, 110)\n",
    "plt.plot(var)"
   ]
  },
  {
   "cell_type": "code",
   "execution_count": 33,
   "metadata": {},
   "outputs": [
    {
     "name": "stdout",
     "output_type": "stream",
     "text": [
      "El espacio combinado tiene 21 features\n"
     ]
    },
    {
     "name": "stderr",
     "output_type": "stream",
     "text": [
      "C:\\Users\\Efrain\\AppData\\Roaming\\Python\\Python38\\site-packages\\sklearn\\feature_selection\\_univariate_selection.py:114: UserWarning: Features [4] are constant.\n",
      "  warnings.warn(\"Features %s are constant.\" % constant_features_idx,\n",
      "C:\\Users\\Efrain\\AppData\\Roaming\\Python\\Python38\\site-packages\\sklearn\\feature_selection\\_univariate_selection.py:116: RuntimeWarning: invalid value encountered in true_divide\n",
      "  f = msb / msw\n"
     ]
    }
   ],
   "source": [
    "# para saber cual es la mejor feature\n",
    "# simulando que la grafica se corta a los 20 componentes\n",
    "pca = PCA(n_components=20)\n",
    "seleccion = SelectKBest(k=1)\n",
    "\n",
    "featureCombinada = FeatureUnion([('pca',pca),('seleccion universal', seleccion)])\n",
    "\n",
    "X_features = featureCombinada.fit(variables_x, variable_y).transform(x)\n",
    "print(f'El espacio combinado tiene {X_features.shape[1]} features')"
   ]
  },
  {
   "cell_type": "code",
   "execution_count": 34,
   "metadata": {},
   "outputs": [
    {
     "name": "stdout",
     "output_type": "stream",
     "text": [
      "(4380, 129) (1095, 129) (4380,) (1095,)\n"
     ]
    }
   ],
   "source": [
    "X_train, X_test, y_train, y_test = train_test_split(variables_x, variable_y, test_size=0.2) \n",
    "print (X_train.shape, X_test.shape, y_train.shape, y_test.shape)"
   ]
  },
  {
   "cell_type": "code",
   "execution_count": 35,
   "metadata": {},
   "outputs": [
    {
     "name": "stdout",
     "output_type": "stream",
     "text": [
      "La precision de nuestro modelo de clasificacion de regresion logistica es: 0.9908675799086758\n"
     ]
    },
    {
     "name": "stderr",
     "output_type": "stream",
     "text": [
      "C:\\Users\\Efrain\\AppData\\Roaming\\Python\\Python38\\site-packages\\sklearn\\linear_model\\_logistic.py:762: ConvergenceWarning: lbfgs failed to converge (status=1):\n",
      "STOP: TOTAL NO. of ITERATIONS REACHED LIMIT.\n",
      "\n",
      "Increase the number of iterations (max_iter) or scale the data as shown in:\n",
      "    https://scikit-learn.org/stable/modules/preprocessing.html\n",
      "Please also refer to the documentation for alternative solver options:\n",
      "    https://scikit-learn.org/stable/modules/linear_model.html#logistic-regression\n",
      "  n_iter_i = _check_optimize_result(\n"
     ]
    },
    {
     "data": {
      "text/html": [
       "<div>\n",
       "<style scoped>\n",
       "    .dataframe tbody tr th:only-of-type {\n",
       "        vertical-align: middle;\n",
       "    }\n",
       "\n",
       "    .dataframe tbody tr th {\n",
       "        vertical-align: top;\n",
       "    }\n",
       "\n",
       "    .dataframe thead th {\n",
       "        text-align: right;\n",
       "    }\n",
       "</style>\n",
       "<table border=\"1\" class=\"dataframe\">\n",
       "  <thead>\n",
       "    <tr style=\"text-align: right;\">\n",
       "      <th>Resultados predichos</th>\n",
       "      <th>0.0</th>\n",
       "      <th>1.0</th>\n",
       "    </tr>\n",
       "    <tr>\n",
       "      <th>Resultado Real</th>\n",
       "      <th></th>\n",
       "      <th></th>\n",
       "    </tr>\n",
       "  </thead>\n",
       "  <tbody>\n",
       "    <tr>\n",
       "      <th>0.0</th>\n",
       "      <td>245</td>\n",
       "      <td>282</td>\n",
       "    </tr>\n",
       "    <tr>\n",
       "      <th>1.0</th>\n",
       "      <td>265</td>\n",
       "      <td>303</td>\n",
       "    </tr>\n",
       "  </tbody>\n",
       "</table>\n",
       "</div>"
      ],
      "text/plain": [
       "Resultados predichos  0.0  1.0\n",
       "Resultado Real                \n",
       "0.0                   245  282\n",
       "1.0                   265  303"
      ]
     },
     "execution_count": 35,
     "metadata": {},
     "output_type": "execute_result"
    }
   ],
   "source": [
    "logreg = LogisticRegression()\n",
    "logreg.fit(X_train,y_train)\n",
    "y_pred = logreg.predict(X_test)\n",
    "print(f'La precision de nuestro modelo de clasificacion de regresion logistica es: {logreg.score(X_test, y_test)}')\n",
    "pd.crosstab(y_test, preds, rownames=['Resultado Real'], colnames= ['Resultados predichos'])"
   ]
  },
  {
   "cell_type": "code",
   "execution_count": 36,
   "metadata": {},
   "outputs": [
    {
     "name": "stdout",
     "output_type": "stream",
     "text": [
      "              precision    recall  f1-score   support\n",
      "\n",
      "         0.0       0.99      0.99      0.99       527\n",
      "         1.0       0.99      0.99      0.99       568\n",
      "\n",
      "    accuracy                           0.99      1095\n",
      "   macro avg       0.99      0.99      0.99      1095\n",
      "weighted avg       0.99      0.99      0.99      1095\n",
      "\n"
     ]
    }
   ],
   "source": [
    "print(classification_report(y_test, y_pred))"
   ]
  },
  {
   "cell_type": "code",
   "execution_count": 39,
   "metadata": {},
   "outputs": [
    {
     "data": {
      "text/plain": [
       "<AxesSubplot:>"
      ]
     },
     "execution_count": 39,
     "metadata": {},
     "output_type": "execute_result"
    },
    {
     "data": {
      "image/png": "[encoded data removed]",
      "text/plain": [
       "<Figure size 1800x1800 with 2 Axes>"
      ]
     },
     "metadata": {
      "needs_background": "light"
     },
     "output_type": "display_data"
    }
   ],
   "source": [
    "# como parte de esta extraccion de features, hacer una matriz de correlacion para saber que afecta mas\n",
    "# ocupando todos los datos\n",
    "corr=numeric2teams32.corr(method='pearson')\n",
    "mask = np.triu(np.ones_like(corr, dtype=np.bool))\n",
    "cmap = sns.diverging_palette(220, 10, as_cmap=True)\n",
    "plt.figure(figsize=(25,25))\n",
    "sns.heatmap(corr, mask=mask, cmap=cmap, vmax=.3, center=0,\n",
    "            square=True, linewidths=.5, cbar_kws={\"shrink\": .5},xticklabels=corr.columns.values,yticklabels=corr.columns.values)\n"
   ]
  },
  {
   "cell_type": "code",
   "execution_count": 42,
   "metadata": {},
   "outputs": [
    {
     "name": "stdout",
     "output_type": "stream",
     "text": [
      "(4380, 127) (1095, 127) (4380,) (1095,)\n",
      "La precision de nuestro modelo de clasificacion de regresion logistica es: 0.9917808219178083\n"
     ]
    },
    {
     "name": "stderr",
     "output_type": "stream",
     "text": [
      "C:\\Users\\Efrain\\AppData\\Roaming\\Python\\Python38\\site-packages\\sklearn\\linear_model\\_logistic.py:762: ConvergenceWarning: lbfgs failed to converge (status=1):\n",
      "STOP: TOTAL NO. of ITERATIONS REACHED LIMIT.\n",
      "\n",
      "Increase the number of iterations (max_iter) or scale the data as shown in:\n",
      "    https://scikit-learn.org/stable/modules/preprocessing.html\n",
      "Please also refer to the documentation for alternative solver options:\n",
      "    https://scikit-learn.org/stable/modules/linear_model.html#logistic-regression\n",
      "  n_iter_i = _check_optimize_result(\n"
     ]
    },
    {
     "data": {
      "text/html": [
       "<div>\n",
       "<style scoped>\n",
       "    .dataframe tbody tr th:only-of-type {\n",
       "        vertical-align: middle;\n",
       "    }\n",
       "\n",
       "    .dataframe tbody tr th {\n",
       "        vertical-align: top;\n",
       "    }\n",
       "\n",
       "    .dataframe thead th {\n",
       "        text-align: right;\n",
       "    }\n",
       "</style>\n",
       "<table border=\"1\" class=\"dataframe\">\n",
       "  <thead>\n",
       "    <tr style=\"text-align: right;\">\n",
       "      <th>Resultados predichos</th>\n",
       "      <th>0.0</th>\n",
       "      <th>1.0</th>\n",
       "    </tr>\n",
       "    <tr>\n",
       "      <th>Resultado Real</th>\n",
       "      <th></th>\n",
       "      <th></th>\n",
       "    </tr>\n",
       "  </thead>\n",
       "  <tbody>\n",
       "    <tr>\n",
       "      <th>0.0</th>\n",
       "      <td>236</td>\n",
       "      <td>285</td>\n",
       "    </tr>\n",
       "    <tr>\n",
       "      <th>1.0</th>\n",
       "      <td>274</td>\n",
       "      <td>300</td>\n",
       "    </tr>\n",
       "  </tbody>\n",
       "</table>\n",
       "</div>"
      ],
      "text/plain": [
       "Resultados predichos  0.0  1.0\n",
       "Resultado Real                \n",
       "0.0                   236  285\n",
       "1.0                   274  300"
      ]
     },
     "execution_count": 42,
     "metadata": {},
     "output_type": "execute_result"
    }
   ],
   "source": [
    "# quitamos columnas que podrían no brindan información util\n",
    "variables_x, variable_y = numeric2teams32.drop(['result', 'year', 'playoffs'], axis = 1), numeric2teams32['result']\n",
    "# despues de esto volvemos hacer todo el proceso\n",
    "\n",
    "X_train, X_test, y_train, y_test = train_test_split(variables_x, variable_y, test_size=0.2) \n",
    "print (X_train.shape, X_test.shape, y_train.shape, y_test.shape)\n",
    "logreg = LogisticRegression()\n",
    "logreg.fit(X_train,y_train)\n",
    "y_pred = logreg.predict(X_test)\n",
    "print(f'La precision de nuestro modelo de clasificacion de regresion logistica es: {logreg.score(X_test, y_test)}')\n",
    "pd.crosstab(y_test, preds, rownames=['Resultado Real'], colnames= ['Resultados predichos'])\n",
    "\n",
    "# subio ligeramente la precisión, en un .001%"
   ]
  },
  {
   "cell_type": "code",
   "execution_count": 43,
   "metadata": {},
   "outputs": [
    {
     "name": "stdout",
     "output_type": "stream",
     "text": [
      "              precision    recall  f1-score   support\n",
      "\n",
      "         0.0       0.99      0.99      0.99       521\n",
      "         1.0       0.99      0.99      0.99       574\n",
      "\n",
      "    accuracy                           0.99      1095\n",
      "   macro avg       0.99      0.99      0.99      1095\n",
      "weighted avg       0.99      0.99      0.99      1095\n",
      "\n"
     ]
    }
   ],
   "source": [
    "print(classification_report(y_test, y_pred))"
   ]
  },
  {
   "cell_type": "code",
   "execution_count": 47,
   "metadata": {},
   "outputs": [
    {
     "data": {
      "text/plain": [
       "Index(['blue_gspd', 'blue_golddiffat10', 'blue_xpdiffat10', 'blue_csdiffat10',\n",
       "       'blue_golddiffat15', 'blue_xpdiffat15', 'blue_csdiffat15', 'red_gspd',\n",
       "       'red_golddiffat10', 'red_xpdiffat10', 'red_csdiffat10',\n",
       "       'red_golddiffat15', 'red_xpdiffat15', 'red_csdiffat15'],\n",
       "      dtype='object')"
      ]
     },
     "execution_count": 47,
     "metadata": {},
     "output_type": "execute_result"
    }
   ],
   "source": [
    "# usando chi2\n",
    "# debido a que no acepta valores negativos el metodo chi2, los quitaremos\n",
    "numeric2teams32.columns[(numeric2teams32 < 0).any()]"
   ]
  },
  {
   "cell_type": "code",
   "execution_count": 48,
   "metadata": {},
   "outputs": [],
   "source": [
    "variables_x, variable_y = numeric2teams32.drop(['result', 'year', 'playoffs','blue_gspd', 'blue_golddiffat10', 'blue_xpdiffat10', 'blue_csdiffat10',\n",
    "       'blue_golddiffat15', 'blue_xpdiffat15', 'blue_csdiffat15', 'red_gspd',\n",
    "       'red_golddiffat10', 'red_xpdiffat10', 'red_csdiffat10',\n",
    "       'red_golddiffat15', 'red_xpdiffat15', 'red_csdiffat15'], axis = 1), numeric2teams32['result']"
   ]
  },
  {
   "cell_type": "code",
   "execution_count": 49,
   "metadata": {},
   "outputs": [
    {
     "name": "stdout",
     "output_type": "stream",
     "text": [
      "Numero de features originalmente 113\n",
      "Numero de features reducidas 20\n"
     ]
    }
   ],
   "source": [
    "selector_chi2 = SelectKBest(chi2, k=20)\n",
    "X_kbest = selector_chi2.fit_transform(variables_x, variable_y)\n",
    "print(f'Numero de features originalmente {variables_x.shape[1]}')\n",
    "print(f'Numero de features reducidas {X_kbest.shape[1]}')"
   ]
  },
  {
   "cell_type": "code",
   "execution_count": 50,
   "metadata": {},
   "outputs": [
    {
     "name": "stderr",
     "output_type": "stream",
     "text": [
      "C:\\Users\\Efrain\\AppData\\Roaming\\Python\\Python38\\site-packages\\sklearn\\utils\\validation.py:67: FutureWarning: Pass n_features_to_select=20 as keyword args. From version 0.25 passing these as positional arguments will result in an error\n",
      "  warnings.warn(\"Pass {} as keyword args. From version 0.25 \"\n"
     ]
    },
    {
     "name": "stdout",
     "output_type": "stream",
     "text": [
      "[False False False False  True  True  True False  True False False False\n",
      " False False  True False False False False False False False False False\n",
      " False False False False False False  True False False  True False False\n",
      " False False False False False False False False  True  True False False\n",
      " False False False False False False False False False False False  True\n",
      "  True  True  True False False False False False  True False False False\n",
      " False False False False False False False False False False  True False\n",
      "  True False False  True False False False False False False False False\n",
      " False  True  True  True False False False False False False False False\n",
      " False False False False False]\n",
      "[81 55 94 20  1  1  1  2  1 18 63 80 88 87  1 13 85 12 31 75 71 77 67 62\n",
      " 61 92 76 48 29 86  1 74 64  1 10  8 32 49 25 42 44 23 51  3  1  1  9 91\n",
      " 60 16 52  4 14 50 28 53 24 35 57  1  1  1  1 43 69 65 78 89  1  6 82  7\n",
      " 26 68 72 70 66 58 56 90 79 27  1 84  1 83 73  1 15 17 30 47 41 37 39 46\n",
      " 19  1  1  1  5 93 36 34 45 11 22 38 59 40 33 21 54]\n"
     ]
    }
   ],
   "source": [
    "# método wrapper para feature selection, interaccion que existen entre las diferentes variables\n",
    "# Recursive Feature Elimination, igual otro método\n",
    "clf = RandomForestClassifier(n_jobs=2, random_state=0)\n",
    "rfe = RFE(clf, 20)\n",
    "rfe = rfe.fit(variables_x, variable_y)\n",
    "print(rfe.support_)\n",
    "print(rfe.ranking_)"
   ]
  },
  {
   "cell_type": "code",
   "execution_count": 51,
   "metadata": {},
   "outputs": [
    {
     "name": "stdout",
     "output_type": "stream",
     "text": [
      "[1.61495968e-04 2.53429075e-04 0.00000000e+00 8.54487253e-04\n",
      " 1.67503381e-02 5.41049949e-02 1.87753341e-02 1.31641485e-02\n",
      " 3.86867227e-02 5.48975382e-03 3.83801954e-04 1.20697523e-04\n",
      " 1.11054422e-04 8.54546949e-05 2.45920827e-02 2.60062503e-03\n",
      " 5.58920558e-05 1.83180292e-03 4.13108015e-03 1.81033689e-04\n",
      " 2.29083336e-04 2.05284904e-04 1.26264630e-04 4.43816582e-04\n",
      " 3.04939013e-04 9.37403524e-05 2.26479279e-04 5.05240010e-03\n",
      " 6.31758900e-03 8.90747641e-05 9.82898317e-02 1.92835691e-03\n",
      " 2.35758214e-04 1.01014701e-01 2.45387246e-03 4.73275385e-03\n",
      " 7.14868753e-04 5.86218794e-04 6.01968420e-04 7.35090330e-04\n",
      " 7.43455988e-04 1.21378864e-03 7.13958972e-04 2.44521306e-03\n",
      " 1.09625177e-02 7.50310507e-02 9.81914998e-04 5.15886489e-05\n",
      " 6.95864970e-04 1.03717897e-03 5.43982131e-04 1.06160883e-03\n",
      " 8.35653906e-04 6.20232968e-04 4.50991904e-04 5.38327004e-04\n",
      " 8.05805722e-04 5.01824338e-04 6.35254701e-04 1.67797167e-02\n",
      " 1.44947427e-02 4.47912117e-02 3.48038632e-02 1.29386408e-03\n",
      " 2.68352027e-04 1.69902200e-04 1.40852965e-04 4.30639039e-05\n",
      " 2.15620220e-02 1.63070354e-03 5.83314851e-05 9.84652298e-03\n",
      " 4.13112166e-03 2.32482197e-04 2.19751248e-04 2.82709276e-04\n",
      " 3.13995662e-04 4.15906140e-04 9.52083329e-04 7.36289502e-05\n",
      " 9.46732312e-05 1.21931606e-02 2.46614217e-02 5.07569042e-05\n",
      " 1.21223385e-01 9.40979999e-05 7.03560789e-04 7.81689826e-02\n",
      " 1.08014861e-03 3.68535678e-03 5.85285478e-04 5.61006630e-04\n",
      " 7.36874561e-04 7.17424528e-04 5.83315797e-04 7.77047472e-04\n",
      " 9.59093023e-04 4.15166895e-03 1.17321545e-02 6.75467331e-02\n",
      " 2.43076652e-03 6.44147100e-05 5.87107935e-04 1.34965870e-03\n",
      " 5.97159855e-04 8.39707112e-04 7.14819576e-04 4.31826383e-04\n",
      " 6.33216753e-04 5.52266006e-04 8.47895507e-04 7.19794510e-04\n",
      " 8.33853785e-04]\n"
     ]
    }
   ],
   "source": [
    "# vamos a ver cada una de las importancia de las columnas\n",
    "modelo = RandomForestClassifier(n_jobs=2, random_state=0)\n",
    "modelo.fit(variables_x, variable_y)\n",
    "print(modelo.feature_importances_)"
   ]
  },
  {
   "cell_type": "code",
   "execution_count": 52,
   "metadata": {},
   "outputs": [
    {
     "data": {
      "text/html": [
       "<div>\n",
       "<style scoped>\n",
       "    .dataframe tbody tr th:only-of-type {\n",
       "        vertical-align: middle;\n",
       "    }\n",
       "\n",
       "    .dataframe tbody tr th {\n",
       "        vertical-align: top;\n",
       "    }\n",
       "\n",
       "    .dataframe thead th {\n",
       "        text-align: right;\n",
       "    }\n",
       "</style>\n",
       "<table border=\"1\" class=\"dataframe\">\n",
       "  <thead>\n",
       "    <tr style=\"text-align: right;\">\n",
       "      <th></th>\n",
       "      <th>Gini-importance</th>\n",
       "    </tr>\n",
       "  </thead>\n",
       "  <tbody>\n",
       "    <tr>\n",
       "      <th>red_towers</th>\n",
       "      <td>0.121223</td>\n",
       "    </tr>\n",
       "    <tr>\n",
       "      <th>blue_inhibitors</th>\n",
       "      <td>0.101015</td>\n",
       "    </tr>\n",
       "    <tr>\n",
       "      <th>blue_towers</th>\n",
       "      <td>0.098290</td>\n",
       "    </tr>\n",
       "    <tr>\n",
       "      <th>red_inhibitors</th>\n",
       "      <td>0.078169</td>\n",
       "    </tr>\n",
       "    <tr>\n",
       "      <th>blue_earned_gpm</th>\n",
       "      <td>0.075031</td>\n",
       "    </tr>\n",
       "    <tr>\n",
       "      <th>red_earned_gpm</th>\n",
       "      <td>0.067547</td>\n",
       "    </tr>\n",
       "    <tr>\n",
       "      <th>blue_deaths</th>\n",
       "      <td>0.054105</td>\n",
       "    </tr>\n",
       "    <tr>\n",
       "      <th>red_teamkills</th>\n",
       "      <td>0.044791</td>\n",
       "    </tr>\n",
       "    <tr>\n",
       "      <th>blue_teamdeaths</th>\n",
       "      <td>0.038687</td>\n",
       "    </tr>\n",
       "    <tr>\n",
       "      <th>red_teamdeaths</th>\n",
       "      <td>0.034804</td>\n",
       "    </tr>\n",
       "    <tr>\n",
       "      <th>red_barons</th>\n",
       "      <td>0.024661</td>\n",
       "    </tr>\n",
       "    <tr>\n",
       "      <th>blue_team_kpm</th>\n",
       "      <td>0.024592</td>\n",
       "    </tr>\n",
       "    <tr>\n",
       "      <th>red_team_kpm</th>\n",
       "      <td>0.021562</td>\n",
       "    </tr>\n",
       "    <tr>\n",
       "      <th>blue_ assists</th>\n",
       "      <td>0.018775</td>\n",
       "    </tr>\n",
       "    <tr>\n",
       "      <th>red_deaths</th>\n",
       "      <td>0.016780</td>\n",
       "    </tr>\n",
       "    <tr>\n",
       "      <th>blue_kills</th>\n",
       "      <td>0.016750</td>\n",
       "    </tr>\n",
       "    <tr>\n",
       "      <th>red_assists</th>\n",
       "      <td>0.014495</td>\n",
       "    </tr>\n",
       "    <tr>\n",
       "      <th>blue_teamkills</th>\n",
       "      <td>0.013164</td>\n",
       "    </tr>\n",
       "    <tr>\n",
       "      <th>red_firstbaron</th>\n",
       "      <td>0.012193</td>\n",
       "    </tr>\n",
       "    <tr>\n",
       "      <th>red_earnedgold</th>\n",
       "      <td>0.011732</td>\n",
       "    </tr>\n",
       "  </tbody>\n",
       "</table>\n",
       "</div>"
      ],
      "text/plain": [
       "                 Gini-importance\n",
       "red_towers              0.121223\n",
       "blue_inhibitors         0.101015\n",
       "blue_towers             0.098290\n",
       "red_inhibitors          0.078169\n",
       "blue_earned_gpm         0.075031\n",
       "red_earned_gpm          0.067547\n",
       "blue_deaths             0.054105\n",
       "red_teamkills           0.044791\n",
       "blue_teamdeaths         0.038687\n",
       "red_teamdeaths          0.034804\n",
       "red_barons              0.024661\n",
       "blue_team_kpm           0.024592\n",
       "red_team_kpm            0.021562\n",
       "blue_ assists           0.018775\n",
       "red_deaths              0.016780\n",
       "blue_kills              0.016750\n",
       "red_assists             0.014495\n",
       "blue_teamkills          0.013164\n",
       "red_firstbaron          0.012193\n",
       "red_earnedgold          0.011732"
      ]
     },
     "execution_count": 52,
     "metadata": {},
     "output_type": "execute_result"
    }
   ],
   "source": [
    "# ocuparemos Gini-importance para saber cuales son esos features \n",
    "features = {}\n",
    "for feature, importancia in zip(variables_x.columns, modelo.feature_importances_):\n",
    "    features[feature] = importancia\n",
    "    \n",
    "importancias = pd.DataFrame.from_dict(features, orient='index').rename(columns={0:'Gini-importance'})\n",
    "importancias.sort_values(by='Gini-importance', ascending = False).head(20)"
   ]
  },
  {
   "cell_type": "code",
   "execution_count": 53,
   "metadata": {},
   "outputs": [],
   "source": [
    "# usando XGBOOST-----------------------------------------"
   ]
  },
  {
   "cell_type": "code",
   "execution_count": 153,
   "metadata": {},
   "outputs": [],
   "source": [
    "x_cols = list(variables_x.columns)"
   ]
  },
  {
   "cell_type": "code",
   "execution_count": 165,
   "metadata": {},
   "outputs": [],
   "source": [
    "variables_x, variable_y = numeric2teams32.drop(['result', 'year', 'playoffs','blue_gspd', 'blue_golddiffat10', 'blue_xpdiffat10', 'blue_csdiffat10',\n",
    "       'blue_golddiffat15', 'blue_xpdiffat15', 'blue_csdiffat15', 'red_gspd',\n",
    "       'red_golddiffat10', 'red_xpdiffat10', 'red_csdiffat10',\n",
    "       'red_golddiffat15', 'red_xpdiffat15', 'red_csdiffat15'], axis = 1), numeric2teams32['result']"
   ]
  },
  {
   "cell_type": "code",
   "execution_count": 166,
   "metadata": {},
   "outputs": [],
   "source": [
    "data_dmatrix = xgb.DMatrix(data=variables_x,label=variable_y)\n",
    "X_train, X_test, y_train, y_test = train_test_split(variables_x, variable_y, test_size=0.2, random_state=123)"
   ]
  },
  {
   "cell_type": "code",
   "execution_count": 167,
   "metadata": {},
   "outputs": [],
   "source": [
    "xg_reg = xgb.XGBRegressor(objective ='reg:linear', colsample_bytree = 0.3, learning_rate = 0.1,\n",
    "                max_depth = 5, alpha = 10, n_estimators = 10)"
   ]
  },
  {
   "cell_type": "code",
   "execution_count": 172,
   "metadata": {},
   "outputs": [
    {
     "name": "stdout",
     "output_type": "stream",
     "text": [
      "[03:17:56] WARNING: C:/Users/Administrator/workspace/xgboost-win64_release_1.2.0/src/objective/regression_obj.cu:174: reg:linear is now deprecated in favor of reg:squarederror.\n",
      "[03:17:57] WARNING: C:/Users/Administrator/workspace/xgboost-win64_release_1.2.0/src/objective/regression_obj.cu:174: reg:linear is now deprecated in favor of reg:squarederror.\n"
     ]
    }
   ],
   "source": [
    "xg_reg.fit(X_train,y_train)\n",
    "\n",
    "preds = xg_reg.predict(X_test)"
   ]
  },
  {
   "cell_type": "code",
   "execution_count": 211,
   "metadata": {},
   "outputs": [
    {
     "data": {
      "text/plain": [
       "['game',\n",
       " 'patch',\n",
       " 'playerid',\n",
       " 'gamelength',\n",
       " 'blue_kills',\n",
       " 'blue_deaths',\n",
       " 'blue_ assists',\n",
       " 'blue_teamkills',\n",
       " 'blue_teamdeaths',\n",
       " 'blue_doublekills',\n",
       " 'blue_triplekills',\n",
       " 'blue_quadrakills',\n",
       " 'blue_pentakills',\n",
       " 'blue_firstblood',\n",
       " 'blue_team_kpm',\n",
       " 'blue_ckpm',\n",
       " 'blue_firstdragon',\n",
       " 'blue_dragons',\n",
       " 'blue_elementaldrakes',\n",
       " 'blue_infernals',\n",
       " 'blue_mountains',\n",
       " 'blue_clouds',\n",
       " 'blue_oceans',\n",
       " 'blue_dragons(type_unknown)',\n",
       " 'blue_elders',\n",
       " 'blue_firstherald',\n",
       " 'blue_heralds',\n",
       " 'blue_firstbaron',\n",
       " 'blue_barons',\n",
       " 'blue_firsttower',\n",
       " 'blue_towers',\n",
       " 'blue_firstmidtower',\n",
       " 'blue_firsttothreetowers',\n",
       " 'blue_inhibitors',\n",
       " 'blue_damagetochampions',\n",
       " 'blue_dpm',\n",
       " 'blue_wardsplaced',\n",
       " 'blue_wpm',\n",
       " 'blue_wardskilled',\n",
       " 'blue_wcpm',\n",
       " 'blue_controlwardsbought',\n",
       " 'blue_visionscore',\n",
       " 'blue_vspm',\n",
       " 'blue_totalgold',\n",
       " 'blue_earnedgold',\n",
       " 'blue_earned_gpm',\n",
       " 'blue_goldspent',\n",
       " 'blue_total_cs',\n",
       " 'blue_minionkills',\n",
       " 'blue_monsterkills',\n",
       " 'blue_monsterkillsownjungle',\n",
       " 'blue_monsterkillsenemyjungle',\n",
       " 'blue_cspm',\n",
       " 'blue_goldat10',\n",
       " 'blue_xpat10',\n",
       " 'blue_csat10',\n",
       " 'blue_goldat15',\n",
       " 'blue_xpat15',\n",
       " 'blue_csat15',\n",
       " 'red_deaths',\n",
       " 'red_assists',\n",
       " 'red_teamkills',\n",
       " 'red_teamdeaths',\n",
       " 'red_doublekills',\n",
       " 'red_triplekills',\n",
       " 'red_quadrakills',\n",
       " 'red_pentakills',\n",
       " 'red_firstblood',\n",
       " 'red_team_kpm',\n",
       " 'red_ckpm',\n",
       " 'red_firstdragon',\n",
       " 'red_dragons',\n",
       " 'red_elementaldrakes',\n",
       " 'red_infernals',\n",
       " 'red_mountains',\n",
       " 'red_clouds',\n",
       " 'red_oceans',\n",
       " 'red_dragons(type_unknown)',\n",
       " 'red_elders',\n",
       " 'red_firstherald',\n",
       " 'red_heralds',\n",
       " 'red_firstbaron',\n",
       " 'red_barons',\n",
       " 'red_firsttower',\n",
       " 'red_towers',\n",
       " 'red_firstmidtower',\n",
       " 'red_firsttothreetowers',\n",
       " 'red_inhibitors',\n",
       " 'red_damagetochampions',\n",
       " 'red_dpm',\n",
       " 'red_wardsplaced',\n",
       " 'red_wpm',\n",
       " 'red_wardskilled',\n",
       " 'red_wcpm',\n",
       " 'red_controlwardsbought',\n",
       " 'red_visionscore',\n",
       " 'red_vspm',\n",
       " 'red_totalgold',\n",
       " 'red_earnedgold',\n",
       " 'red_earned_gpm',\n",
       " 'red_goldspent',\n",
       " 'red_total_cs',\n",
       " 'red_minionkills',\n",
       " 'red_monsterkills',\n",
       " 'red_monsterkillsownjungle',\n",
       " 'red_monsterkillsenemyjungle',\n",
       " 'red_cspm',\n",
       " 'red_goldat10',\n",
       " 'red_xpat10',\n",
       " 'red_csat10',\n",
       " 'red_goldat15',\n",
       " 'red_xpat15',\n",
       " 'red_csat15']"
      ]
     },
     "execution_count": 211,
     "metadata": {},
     "output_type": "execute_result"
    }
   ],
   "source": [
    "list(X_test.columns)"
   ]
  },
  {
   "cell_type": "code",
   "execution_count": 169,
   "metadata": {},
   "outputs": [
    {
     "name": "stdout",
     "output_type": "stream",
     "text": [
      "RMSE: 0.214160\n"
     ]
    }
   ],
   "source": [
    "#mean square error\n",
    "rmse = np.sqrt(mean_squared_error(y_test, preds))\n",
    "print(\"RMSE: %f\" % (rmse))"
   ]
  },
  {
   "cell_type": "code",
   "execution_count": 159,
   "metadata": {},
   "outputs": [
    {
     "name": "stdout",
     "output_type": "stream",
     "text": [
      "[03:13:14] WARNING: C:/Users/Administrator/workspace/xgboost-win64_release_1.2.0/src/objective/regression_obj.cu:174: reg:linear is now deprecated in favor of reg:squarederror.\n",
      "[03:13:15] WARNING: C:/Users/Administrator/workspace/xgboost-win64_release_1.2.0/src/objective/regression_obj.cu:174: reg:linear is now deprecated in favor of reg:squarederror.\n",
      "[03:13:15] WARNING: C:/Users/Administrator/workspace/xgboost-win64_release_1.2.0/src/objective/regression_obj.cu:174: reg:linear is now deprecated in favor of reg:squarederror.\n"
     ]
    }
   ],
   "source": [
    "params = {\"objective\":\"reg:linear\",'colsample_bytree': 0.3,'learning_rate': 0.1,\n",
    "                'max_depth': 5, 'alpha': 10}\n",
    "\n",
    "cv_results = xgb.cv(dtrain=data_dmatrix, params=params, nfold=3,\n",
    "                    num_boost_round=50,early_stopping_rounds=10,metrics=\"rmse\", as_pandas=True, seed=123)"
   ]
  },
  {
   "cell_type": "code",
   "execution_count": 160,
   "metadata": {},
   "outputs": [
    {
     "data": {
      "text/html": [
       "<div>\n",
       "<style scoped>\n",
       "    .dataframe tbody tr th:only-of-type {\n",
       "        vertical-align: middle;\n",
       "    }\n",
       "\n",
       "    .dataframe tbody tr th {\n",
       "        vertical-align: top;\n",
       "    }\n",
       "\n",
       "    .dataframe thead th {\n",
       "        text-align: right;\n",
       "    }\n",
       "</style>\n",
       "<table border=\"1\" class=\"dataframe\">\n",
       "  <thead>\n",
       "    <tr style=\"text-align: right;\">\n",
       "      <th></th>\n",
       "      <th>train-rmse-mean</th>\n",
       "      <th>train-rmse-std</th>\n",
       "      <th>test-rmse-mean</th>\n",
       "      <th>test-rmse-std</th>\n",
       "    </tr>\n",
       "  </thead>\n",
       "  <tbody>\n",
       "    <tr>\n",
       "      <th>0</th>\n",
       "      <td>0.458978</td>\n",
       "      <td>0.000390</td>\n",
       "      <td>0.460040</td>\n",
       "      <td>0.000324</td>\n",
       "    </tr>\n",
       "    <tr>\n",
       "      <th>1</th>\n",
       "      <td>0.417252</td>\n",
       "      <td>0.000718</td>\n",
       "      <td>0.418910</td>\n",
       "      <td>0.000334</td>\n",
       "    </tr>\n",
       "    <tr>\n",
       "      <th>2</th>\n",
       "      <td>0.382683</td>\n",
       "      <td>0.002249</td>\n",
       "      <td>0.384862</td>\n",
       "      <td>0.002311</td>\n",
       "    </tr>\n",
       "    <tr>\n",
       "      <th>3</th>\n",
       "      <td>0.349727</td>\n",
       "      <td>0.001346</td>\n",
       "      <td>0.352227</td>\n",
       "      <td>0.000828</td>\n",
       "    </tr>\n",
       "    <tr>\n",
       "      <th>4</th>\n",
       "      <td>0.320179</td>\n",
       "      <td>0.000492</td>\n",
       "      <td>0.323040</td>\n",
       "      <td>0.001025</td>\n",
       "    </tr>\n",
       "    <tr>\n",
       "      <th>5</th>\n",
       "      <td>0.293896</td>\n",
       "      <td>0.000429</td>\n",
       "      <td>0.297302</td>\n",
       "      <td>0.000932</td>\n",
       "    </tr>\n",
       "    <tr>\n",
       "      <th>6</th>\n",
       "      <td>0.269820</td>\n",
       "      <td>0.000440</td>\n",
       "      <td>0.273589</td>\n",
       "      <td>0.001161</td>\n",
       "    </tr>\n",
       "    <tr>\n",
       "      <th>7</th>\n",
       "      <td>0.249668</td>\n",
       "      <td>0.002282</td>\n",
       "      <td>0.253907</td>\n",
       "      <td>0.002390</td>\n",
       "    </tr>\n",
       "    <tr>\n",
       "      <th>8</th>\n",
       "      <td>0.230145</td>\n",
       "      <td>0.001945</td>\n",
       "      <td>0.234766</td>\n",
       "      <td>0.002155</td>\n",
       "    </tr>\n",
       "    <tr>\n",
       "      <th>9</th>\n",
       "      <td>0.214869</td>\n",
       "      <td>0.003322</td>\n",
       "      <td>0.220231</td>\n",
       "      <td>0.003949</td>\n",
       "    </tr>\n",
       "    <tr>\n",
       "      <th>10</th>\n",
       "      <td>0.200094</td>\n",
       "      <td>0.003702</td>\n",
       "      <td>0.206079</td>\n",
       "      <td>0.004563</td>\n",
       "    </tr>\n",
       "    <tr>\n",
       "      <th>11</th>\n",
       "      <td>0.186872</td>\n",
       "      <td>0.003977</td>\n",
       "      <td>0.193602</td>\n",
       "      <td>0.005262</td>\n",
       "    </tr>\n",
       "    <tr>\n",
       "      <th>12</th>\n",
       "      <td>0.175073</td>\n",
       "      <td>0.004260</td>\n",
       "      <td>0.182255</td>\n",
       "      <td>0.005633</td>\n",
       "    </tr>\n",
       "    <tr>\n",
       "      <th>13</th>\n",
       "      <td>0.164165</td>\n",
       "      <td>0.003844</td>\n",
       "      <td>0.171907</td>\n",
       "      <td>0.005221</td>\n",
       "    </tr>\n",
       "    <tr>\n",
       "      <th>14</th>\n",
       "      <td>0.154886</td>\n",
       "      <td>0.003360</td>\n",
       "      <td>0.163225</td>\n",
       "      <td>0.004562</td>\n",
       "    </tr>\n",
       "    <tr>\n",
       "      <th>15</th>\n",
       "      <td>0.146619</td>\n",
       "      <td>0.003729</td>\n",
       "      <td>0.155597</td>\n",
       "      <td>0.004800</td>\n",
       "    </tr>\n",
       "    <tr>\n",
       "      <th>16</th>\n",
       "      <td>0.139317</td>\n",
       "      <td>0.003152</td>\n",
       "      <td>0.148630</td>\n",
       "      <td>0.004343</td>\n",
       "    </tr>\n",
       "    <tr>\n",
       "      <th>17</th>\n",
       "      <td>0.133047</td>\n",
       "      <td>0.003057</td>\n",
       "      <td>0.142720</td>\n",
       "      <td>0.004247</td>\n",
       "    </tr>\n",
       "    <tr>\n",
       "      <th>18</th>\n",
       "      <td>0.127948</td>\n",
       "      <td>0.003673</td>\n",
       "      <td>0.138126</td>\n",
       "      <td>0.004946</td>\n",
       "    </tr>\n",
       "    <tr>\n",
       "      <th>19</th>\n",
       "      <td>0.123163</td>\n",
       "      <td>0.003435</td>\n",
       "      <td>0.133837</td>\n",
       "      <td>0.004645</td>\n",
       "    </tr>\n",
       "    <tr>\n",
       "      <th>20</th>\n",
       "      <td>0.119607</td>\n",
       "      <td>0.003791</td>\n",
       "      <td>0.130613</td>\n",
       "      <td>0.005126</td>\n",
       "    </tr>\n",
       "    <tr>\n",
       "      <th>21</th>\n",
       "      <td>0.116122</td>\n",
       "      <td>0.003519</td>\n",
       "      <td>0.127593</td>\n",
       "      <td>0.004726</td>\n",
       "    </tr>\n",
       "    <tr>\n",
       "      <th>22</th>\n",
       "      <td>0.113167</td>\n",
       "      <td>0.003260</td>\n",
       "      <td>0.124909</td>\n",
       "      <td>0.004452</td>\n",
       "    </tr>\n",
       "    <tr>\n",
       "      <th>23</th>\n",
       "      <td>0.110787</td>\n",
       "      <td>0.002970</td>\n",
       "      <td>0.122721</td>\n",
       "      <td>0.004177</td>\n",
       "    </tr>\n",
       "    <tr>\n",
       "      <th>24</th>\n",
       "      <td>0.108768</td>\n",
       "      <td>0.002729</td>\n",
       "      <td>0.120956</td>\n",
       "      <td>0.003897</td>\n",
       "    </tr>\n",
       "    <tr>\n",
       "      <th>25</th>\n",
       "      <td>0.107110</td>\n",
       "      <td>0.002747</td>\n",
       "      <td>0.119421</td>\n",
       "      <td>0.003896</td>\n",
       "    </tr>\n",
       "    <tr>\n",
       "      <th>26</th>\n",
       "      <td>0.105788</td>\n",
       "      <td>0.002569</td>\n",
       "      <td>0.118264</td>\n",
       "      <td>0.003683</td>\n",
       "    </tr>\n",
       "    <tr>\n",
       "      <th>27</th>\n",
       "      <td>0.104441</td>\n",
       "      <td>0.002510</td>\n",
       "      <td>0.117062</td>\n",
       "      <td>0.003651</td>\n",
       "    </tr>\n",
       "    <tr>\n",
       "      <th>28</th>\n",
       "      <td>0.103454</td>\n",
       "      <td>0.002381</td>\n",
       "      <td>0.116194</td>\n",
       "      <td>0.003510</td>\n",
       "    </tr>\n",
       "    <tr>\n",
       "      <th>29</th>\n",
       "      <td>0.102598</td>\n",
       "      <td>0.002249</td>\n",
       "      <td>0.115464</td>\n",
       "      <td>0.003331</td>\n",
       "    </tr>\n",
       "    <tr>\n",
       "      <th>30</th>\n",
       "      <td>0.101526</td>\n",
       "      <td>0.002005</td>\n",
       "      <td>0.114545</td>\n",
       "      <td>0.003047</td>\n",
       "    </tr>\n",
       "    <tr>\n",
       "      <th>31</th>\n",
       "      <td>0.100824</td>\n",
       "      <td>0.002085</td>\n",
       "      <td>0.113931</td>\n",
       "      <td>0.003067</td>\n",
       "    </tr>\n",
       "    <tr>\n",
       "      <th>32</th>\n",
       "      <td>0.100105</td>\n",
       "      <td>0.002062</td>\n",
       "      <td>0.113381</td>\n",
       "      <td>0.003045</td>\n",
       "    </tr>\n",
       "    <tr>\n",
       "      <th>33</th>\n",
       "      <td>0.099281</td>\n",
       "      <td>0.002170</td>\n",
       "      <td>0.112759</td>\n",
       "      <td>0.003104</td>\n",
       "    </tr>\n",
       "    <tr>\n",
       "      <th>34</th>\n",
       "      <td>0.098419</td>\n",
       "      <td>0.002168</td>\n",
       "      <td>0.112025</td>\n",
       "      <td>0.003109</td>\n",
       "    </tr>\n",
       "    <tr>\n",
       "      <th>35</th>\n",
       "      <td>0.097951</td>\n",
       "      <td>0.002216</td>\n",
       "      <td>0.111714</td>\n",
       "      <td>0.003109</td>\n",
       "    </tr>\n",
       "    <tr>\n",
       "      <th>36</th>\n",
       "      <td>0.097202</td>\n",
       "      <td>0.002065</td>\n",
       "      <td>0.111159</td>\n",
       "      <td>0.002970</td>\n",
       "    </tr>\n",
       "    <tr>\n",
       "      <th>37</th>\n",
       "      <td>0.096724</td>\n",
       "      <td>0.002103</td>\n",
       "      <td>0.110754</td>\n",
       "      <td>0.002897</td>\n",
       "    </tr>\n",
       "    <tr>\n",
       "      <th>38</th>\n",
       "      <td>0.096218</td>\n",
       "      <td>0.002021</td>\n",
       "      <td>0.110339</td>\n",
       "      <td>0.002783</td>\n",
       "    </tr>\n",
       "    <tr>\n",
       "      <th>39</th>\n",
       "      <td>0.095712</td>\n",
       "      <td>0.001918</td>\n",
       "      <td>0.109997</td>\n",
       "      <td>0.002700</td>\n",
       "    </tr>\n",
       "    <tr>\n",
       "      <th>40</th>\n",
       "      <td>0.095244</td>\n",
       "      <td>0.001656</td>\n",
       "      <td>0.109645</td>\n",
       "      <td>0.002547</td>\n",
       "    </tr>\n",
       "    <tr>\n",
       "      <th>41</th>\n",
       "      <td>0.095038</td>\n",
       "      <td>0.001673</td>\n",
       "      <td>0.109481</td>\n",
       "      <td>0.002529</td>\n",
       "    </tr>\n",
       "    <tr>\n",
       "      <th>42</th>\n",
       "      <td>0.094753</td>\n",
       "      <td>0.001752</td>\n",
       "      <td>0.109244</td>\n",
       "      <td>0.002577</td>\n",
       "    </tr>\n",
       "    <tr>\n",
       "      <th>43</th>\n",
       "      <td>0.094258</td>\n",
       "      <td>0.001887</td>\n",
       "      <td>0.108943</td>\n",
       "      <td>0.002661</td>\n",
       "    </tr>\n",
       "    <tr>\n",
       "      <th>44</th>\n",
       "      <td>0.093817</td>\n",
       "      <td>0.001978</td>\n",
       "      <td>0.108611</td>\n",
       "      <td>0.002731</td>\n",
       "    </tr>\n",
       "    <tr>\n",
       "      <th>45</th>\n",
       "      <td>0.093481</td>\n",
       "      <td>0.002021</td>\n",
       "      <td>0.108342</td>\n",
       "      <td>0.002698</td>\n",
       "    </tr>\n",
       "    <tr>\n",
       "      <th>46</th>\n",
       "      <td>0.093309</td>\n",
       "      <td>0.002021</td>\n",
       "      <td>0.108232</td>\n",
       "      <td>0.002645</td>\n",
       "    </tr>\n",
       "    <tr>\n",
       "      <th>47</th>\n",
       "      <td>0.093120</td>\n",
       "      <td>0.002148</td>\n",
       "      <td>0.108121</td>\n",
       "      <td>0.002715</td>\n",
       "    </tr>\n",
       "    <tr>\n",
       "      <th>48</th>\n",
       "      <td>0.092724</td>\n",
       "      <td>0.002100</td>\n",
       "      <td>0.107823</td>\n",
       "      <td>0.002747</td>\n",
       "    </tr>\n",
       "    <tr>\n",
       "      <th>49</th>\n",
       "      <td>0.092415</td>\n",
       "      <td>0.002166</td>\n",
       "      <td>0.107615</td>\n",
       "      <td>0.002806</td>\n",
       "    </tr>\n",
       "  </tbody>\n",
       "</table>\n",
       "</div>"
      ],
      "text/plain": [
       "    train-rmse-mean  train-rmse-std  test-rmse-mean  test-rmse-std\n",
       "0          0.458978        0.000390        0.460040       0.000324\n",
       "1          0.417252        0.000718        0.418910       0.000334\n",
       "2          0.382683        0.002249        0.384862       0.002311\n",
       "3          0.349727        0.001346        0.352227       0.000828\n",
       "4          0.320179        0.000492        0.323040       0.001025\n",
       "5          0.293896        0.000429        0.297302       0.000932\n",
       "6          0.269820        0.000440        0.273589       0.001161\n",
       "7          0.249668        0.002282        0.253907       0.002390\n",
       "8          0.230145        0.001945        0.234766       0.002155\n",
       "9          0.214869        0.003322        0.220231       0.003949\n",
       "10         0.200094        0.003702        0.206079       0.004563\n",
       "11         0.186872        0.003977        0.193602       0.005262\n",
       "12         0.175073        0.004260        0.182255       0.005633\n",
       "13         0.164165        0.003844        0.171907       0.005221\n",
       "14         0.154886        0.003360        0.163225       0.004562\n",
       "15         0.146619        0.003729        0.155597       0.004800\n",
       "16         0.139317        0.003152        0.148630       0.004343\n",
       "17         0.133047        0.003057        0.142720       0.004247\n",
       "18         0.127948        0.003673        0.138126       0.004946\n",
       "19         0.123163        0.003435        0.133837       0.004645\n",
       "20         0.119607        0.003791        0.130613       0.005126\n",
       "21         0.116122        0.003519        0.127593       0.004726\n",
       "22         0.113167        0.003260        0.124909       0.004452\n",
       "23         0.110787        0.002970        0.122721       0.004177\n",
       "24         0.108768        0.002729        0.120956       0.003897\n",
       "25         0.107110        0.002747        0.119421       0.003896\n",
       "26         0.105788        0.002569        0.118264       0.003683\n",
       "27         0.104441        0.002510        0.117062       0.003651\n",
       "28         0.103454        0.002381        0.116194       0.003510\n",
       "29         0.102598        0.002249        0.115464       0.003331\n",
       "30         0.101526        0.002005        0.114545       0.003047\n",
       "31         0.100824        0.002085        0.113931       0.003067\n",
       "32         0.100105        0.002062        0.113381       0.003045\n",
       "33         0.099281        0.002170        0.112759       0.003104\n",
       "34         0.098419        0.002168        0.112025       0.003109\n",
       "35         0.097951        0.002216        0.111714       0.003109\n",
       "36         0.097202        0.002065        0.111159       0.002970\n",
       "37         0.096724        0.002103        0.110754       0.002897\n",
       "38         0.096218        0.002021        0.110339       0.002783\n",
       "39         0.095712        0.001918        0.109997       0.002700\n",
       "40         0.095244        0.001656        0.109645       0.002547\n",
       "41         0.095038        0.001673        0.109481       0.002529\n",
       "42         0.094753        0.001752        0.109244       0.002577\n",
       "43         0.094258        0.001887        0.108943       0.002661\n",
       "44         0.093817        0.001978        0.108611       0.002731\n",
       "45         0.093481        0.002021        0.108342       0.002698\n",
       "46         0.093309        0.002021        0.108232       0.002645\n",
       "47         0.093120        0.002148        0.108121       0.002715\n",
       "48         0.092724        0.002100        0.107823       0.002747\n",
       "49         0.092415        0.002166        0.107615       0.002806"
      ]
     },
     "execution_count": 160,
     "metadata": {},
     "output_type": "execute_result"
    }
   ],
   "source": [
    "# contains train and test RMSE metrics for each boosting round.\n",
    "cv_results"
   ]
  },
  {
   "cell_type": "code",
   "execution_count": 161,
   "metadata": {},
   "outputs": [
    {
     "name": "stdout",
     "output_type": "stream",
     "text": [
      "[03:13:19] WARNING: C:/Users/Administrator/workspace/xgboost-win64_release_1.2.0/src/objective/regression_obj.cu:174: reg:linear is now deprecated in favor of reg:squarederror.\n",
      "[03:13:19] WARNING: C:/Users/Administrator/workspace/xgboost-win64_release_1.2.0/src/objective/regression_obj.cu:174: reg:linear is now deprecated in favor of reg:squarederror.\n"
     ]
    }
   ],
   "source": [
    "xg_reg = xgb.train(params=params, dtrain=data_dmatrix, num_boost_round=10)"
   ]
  },
  {
   "cell_type": "code",
   "execution_count": 162,
   "metadata": {},
   "outputs": [
    {
     "data": {
      "image/png": "[encoded data removed]",
      "text/plain": [
       "<Figure size 1440x1440 with 1 Axes>"
      ]
     },
     "metadata": {
      "needs_background": "light"
     },
     "output_type": "display_data"
    }
   ],
   "source": [
    "xgb.plot_importance(xg_reg)\n",
    "plt.rcParams['figure.figsize'] = [20, 20]\n",
    "plt.show()"
   ]
  },
  {
   "cell_type": "code",
   "execution_count": 75,
   "metadata": {},
   "outputs": [],
   "source": [
    "# imaginando encuentro entre dos equipos, basandonos en el desempeño de estos durante el año en curso----------"
   ]
  },
  {
   "cell_type": "code",
   "execution_count": 79,
   "metadata": {},
   "outputs": [
    {
     "data": {
      "text/plain": [
       "245"
      ]
     },
     "execution_count": 79,
     "metadata": {},
     "output_type": "execute_result"
    }
   ],
   "source": [
    "# primero vemos que equipos existen en el set\n",
    "len(set(bluevsred.blue_team))"
   ]
  },
  {
   "cell_type": "code",
   "execution_count": 80,
   "metadata": {},
   "outputs": [
    {
     "data": {
      "text/plain": [
       "245"
      ]
     },
     "execution_count": 80,
     "metadata": {},
     "output_type": "execute_result"
    }
   ],
   "source": [
    "len(set(bluevsred.red_team))"
   ]
  },
  {
   "cell_type": "code",
   "execution_count": 105,
   "metadata": {},
   "outputs": [
    {
     "data": {
      "text/plain": [
       "{'100 Thieves',\n",
       " '100 Thieves Academy',\n",
       " '1907 Fenerbahçe Academy',\n",
       " '1907 Fenerbahçe Esports',\n",
       " '5 Ronin',\n",
       " '5 Ronin Academy',\n",
       " '7more7 Pompa Team',\n",
       " 'AGO ROGUE',\n",
       " 'ASUS ROG ELITE',\n",
       " 'AXIZ',\n",
       " 'Afreeca Freecs',\n",
       " 'All Combo',\n",
       " 'All Knights',\n",
       " 'Alpha Esports',\n",
       " 'Asura',\n",
       " 'Avant Gaming',\n",
       " 'Awesome Spear',\n",
       " 'Azules Esports',\n",
       " 'BT Excel',\n",
       " 'Berjaya Dragons',\n",
       " 'Beşiktaş Academy',\n",
       " 'Beşiktaş Esports',\n",
       " 'Bilibili Gaming',\n",
       " 'Bilibili Gaming Junior',\n",
       " 'Burning Core',\n",
       " 'CERBERUS Esports',\n",
       " 'CLG Academy',\n",
       " 'CR4ZY',\n",
       " 'Chiefs Academy',\n",
       " 'Chiefs Esports Club',\n",
       " 'Cloud9',\n",
       " 'Cloud9 Academy',\n",
       " 'Counter Logic Gaming',\n",
       " 'Crest Gaming Act',\n",
       " 'CrowCrowd',\n",
       " 'Cyber Gaming',\n",
       " 'DAMWON Gaming',\n",
       " 'DRX',\n",
       " 'Dark Passage',\n",
       " 'Dark Passage Academy',\n",
       " 'Defusekids',\n",
       " 'DetonatioN FocusMe',\n",
       " 'Dignitas',\n",
       " 'Dignitas Academy',\n",
       " 'Dire Cubs',\n",
       " 'Dire Wolves',\n",
       " 'Dominus Esports',\n",
       " 'Dominus Esports Young',\n",
       " 'Dragon Army',\n",
       " 'EDG Youth Team',\n",
       " 'EDward Gaming',\n",
       " 'EGN Esports',\n",
       " 'ESC Shane',\n",
       " 'EVOS Esports',\n",
       " 'Electronik Generation',\n",
       " 'Element Mystic',\n",
       " 'Elements Pro Gaming',\n",
       " 'Evil Geniuses',\n",
       " 'Evil Geniuses Academy',\n",
       " 'Excel Esports',\n",
       " 'FC Schalke 04 Esports',\n",
       " 'FC Schalke 04 Evolution',\n",
       " 'FTV Esports',\n",
       " 'FURIA Esports',\n",
       " 'Falkol',\n",
       " 'Five Kings',\n",
       " 'Flamengo Esports',\n",
       " 'FlyQuest',\n",
       " 'FlyQuest Academy',\n",
       " 'Fnatic',\n",
       " 'Fnatic Rising',\n",
       " 'For The Win Esports',\n",
       " 'Fukuoka SoftBank Hawks gaming',\n",
       " 'FunPlus Phoenix',\n",
       " 'FunPlus Phoenix Blaze',\n",
       " 'Furious Gaming',\n",
       " 'G2 Arctic',\n",
       " 'G2 Esports',\n",
       " 'GAM Esports',\n",
       " 'Galakticos',\n",
       " 'Galakticos Academy',\n",
       " 'Galatasaray Academy',\n",
       " 'Galatasaray Esports',\n",
       " 'Gama Dream',\n",
       " 'Gambit Esports',\n",
       " 'GameWard',\n",
       " 'GamersOrigin',\n",
       " 'Gen.G',\n",
       " 'Golden Guardians',\n",
       " 'Golden Guardians Academy',\n",
       " 'Gravitas',\n",
       " 'Gravitas Academy',\n",
       " 'Griffin',\n",
       " 'Hanwha Life Esports',\n",
       " 'Havan Liberty Academy',\n",
       " 'Havan Liberty Gaming',\n",
       " 'Hong Kong Attitude',\n",
       " 'INTZ',\n",
       " 'IZI Dream',\n",
       " 'Immortals',\n",
       " 'Immortals Academy',\n",
       " 'Infinity Esports',\n",
       " 'Intergalaxy Tigers Gaming',\n",
       " 'Intrepid Fox Gaming',\n",
       " 'Invictus Gaming',\n",
       " 'Invictus Gaming Young',\n",
       " 'Iron Wolves',\n",
       " 'Isurus',\n",
       " 'J Team',\n",
       " 'JD Gaming',\n",
       " 'Jin Air Green Wings',\n",
       " 'JingNetGame',\n",
       " 'Joy Dream',\n",
       " 'K1ck Neosurf',\n",
       " 'KT Rolster',\n",
       " 'KaBuM! e-Sports',\n",
       " 'Kenty',\n",
       " 'LDLC OL',\n",
       " 'LGD Gaming',\n",
       " 'LGD Gaming Young Team',\n",
       " 'LNG Academy',\n",
       " 'LNG Esports',\n",
       " 'Legacy Esports',\n",
       " 'Legacy Genesis',\n",
       " 'Legend Esport Gaming',\n",
       " 'LinGan e-Sports',\n",
       " 'Liyab Esports',\n",
       " 'LowLandLions',\n",
       " 'Lowkey Esports.Vietnam',\n",
       " 'M19',\n",
       " 'MAD Lions',\n",
       " 'MAD Lions Madrid',\n",
       " 'MAMMOTH',\n",
       " 'Machi Esports',\n",
       " 'Mammoth Academy',\n",
       " 'Misfits Gaming',\n",
       " 'Misfits Premier',\n",
       " 'Movistar Riders',\n",
       " 'Nova Esports',\n",
       " 'ORDER',\n",
       " 'ORDER Academy',\n",
       " 'OZ Gaming',\n",
       " 'Oh My Dream',\n",
       " 'Oh My God',\n",
       " 'One Breath Gaming',\n",
       " 'Origen',\n",
       " 'OverPower Esports',\n",
       " 'PIGSPORTS',\n",
       " 'PSG Talon',\n",
       " 'Papara SuperMassive',\n",
       " 'Pentanet.GG',\n",
       " 'Pentanet.GG Rise',\n",
       " 'Percent Esports',\n",
       " 'Pixel Esports Club',\n",
       " 'Prodigy Esports',\n",
       " 'QUT Tigers',\n",
       " 'RED Canids',\n",
       " 'RMIT Redbacks',\n",
       " 'Racoon',\n",
       " 'Rainbow7',\n",
       " 'Rascal Jester',\n",
       " 'Redemption eSports Porto Alegre',\n",
       " 'Rensga eSports',\n",
       " 'Resurgence',\n",
       " 'Riddle Esports',\n",
       " 'RoX',\n",
       " 'Rogue',\n",
       " 'Rogue Warriors',\n",
       " 'Rogue Warriors Shark',\n",
       " 'Royal Club',\n",
       " 'Royal Never Give Up',\n",
       " 'Royal Youth',\n",
       " 'Royal Youth Academy',\n",
       " 'RunAway',\n",
       " 'SAMCLAN Esports Club',\n",
       " 'SANDBOX Gaming',\n",
       " 'SINNERS Esports',\n",
       " 'SK Gaming',\n",
       " 'Saigon Buffalo',\n",
       " 'Samsung Morning Stars',\n",
       " 'Santos e-Sports',\n",
       " 'Sector One',\n",
       " 'Sengoku Gaming',\n",
       " 'SeolHaeOne Prince',\n",
       " 'Seorabeol Gaming',\n",
       " 'Shu Dai Xiong Gaming',\n",
       " 'Solary',\n",
       " 'Spear Gaming',\n",
       " 'Suning',\n",
       " 'Suning-S',\n",
       " 'SuperMassive Academy',\n",
       " 'SuppUp eSports',\n",
       " 'T1',\n",
       " 'TSM Academy',\n",
       " 'Talon Esports',\n",
       " 'Team AURORA',\n",
       " 'Team AURORA Academy',\n",
       " 'Team Dynamics',\n",
       " 'Team Flash',\n",
       " 'Team GamerLegion',\n",
       " 'Team Liquid',\n",
       " 'Team Liquid Academy',\n",
       " 'Team MCES',\n",
       " 'Team Secret',\n",
       " 'Team Singularity',\n",
       " 'Team SoloMid',\n",
       " 'Team Vitality',\n",
       " 'Team WE',\n",
       " 'Team WE Academy',\n",
       " 'Team oNe eSports',\n",
       " 'Top Esports',\n",
       " 'Top Esports Challenger',\n",
       " 'Triumphant Song Gaming',\n",
       " 'UQ Union',\n",
       " 'UTS Esports',\n",
       " 'Unicorns Of Love.CIS',\n",
       " 'V Gaming Adonis',\n",
       " 'V3 Esports',\n",
       " 'V5 87',\n",
       " 'Vega Squadron',\n",
       " 'Vici Gaming',\n",
       " 'Vici Gaming Potential',\n",
       " 'Victorious Gaming',\n",
       " 'Victory Five',\n",
       " 'Vipers Inc',\n",
       " 'Vitality.Bee',\n",
       " 'Vivo Keyd',\n",
       " 'Vodafone Giants.Spain',\n",
       " 'WLGaming Esports',\n",
       " 'WanZhen Esports Club',\n",
       " 'WhereAreyouFrom',\n",
       " 'XTEN Esports',\n",
       " 'YDN Gamers',\n",
       " 'Young Miracles',\n",
       " 'ahq eSports Club',\n",
       " 'eStar',\n",
       " 'eStar Young',\n",
       " 'eSuba',\n",
       " 'hyFresh Blade',\n",
       " 'mousesports',\n",
       " 'optical spectrum E-sports',\n",
       " 'paiN Gaming',\n",
       " 'unknown team',\n",
       " 'İstanbul Wildcats',\n",
       " 'İstanbul Wildcats Academy'}"
      ]
     },
     "execution_count": 105,
     "metadata": {},
     "output_type": "execute_result"
    }
   ],
   "source": [
    "set(bluevsred.blue_team)"
   ]
  },
  {
   "cell_type": "code",
   "execution_count": 179,
   "metadata": {},
   "outputs": [],
   "source": [
    "# se elijen que equipos y lado a jugar\n",
    "# para el ejemplo \"FunPlus Phoenix\" lado rojo y 'G2 Esports' lado azul\n",
    "redteam = bluevsred[(bluevsred.red_team==\"FunPlus Phoenix\")]\n",
    "blueteam = bluevsred[(bluevsred.blue_team==\"G2 Esports\")]"
   ]
  },
  {
   "cell_type": "code",
   "execution_count": 180,
   "metadata": {},
   "outputs": [],
   "source": [
    "#workflow para tratar ambos sets\n",
    "redteamnum = redteam._get_numeric_data()\n",
    "blueteamnum = blueteam._get_numeric_data()\n",
    "# rellenando nan values\n",
    "redteamnum.fillna(redteamnum.mean(), inplace=True)\n",
    "blueteamnum.fillna(blueteamnum.mean(), inplace=True)\n",
    "# tirando columnas totalmente vacias\n",
    "redteamnum.dropna(axis=1, how='all', inplace=True)\n",
    "blueteamnum.dropna(axis=1, how='all', inplace=True)\n",
    "# change int64 to int 32\n",
    "redteamnum32 = redteamnum.astype(np.float32)\n",
    "blueteamnum32 = blueteamnum.astype(np.float32)"
   ]
  },
  {
   "cell_type": "code",
   "execution_count": 197,
   "metadata": {},
   "outputs": [],
   "source": [
    "# extraemos solo las columnas que tienen caracteristicas de cada equipo\n",
    "blue_cols_name=list(blueteamnum32.columns)\n",
    "red_cols_name=list(redteamnum32.columns)\n",
    "\n",
    "blue_features=[]\n",
    "for word in blue_cols_name:\n",
    "    if word.startswith('blue_'):\n",
    "        blue_features.append(word)\n",
    "    else:\n",
    "        pass\n",
    "        \n",
    "red_features=[]\n",
    "for word in red_cols_name:\n",
    "    if word.startswith('red_'):\n",
    "        red_features.append(word)\n",
    "    else:\n",
    "        pass"
   ]
  },
  {
   "cell_type": "code",
   "execution_count": 133,
   "metadata": {},
   "outputs": [
    {
     "data": {
      "text/html": [
       "<div>\n",
       "<style scoped>\n",
       "    .dataframe tbody tr th:only-of-type {\n",
       "        vertical-align: middle;\n",
       "    }\n",
       "\n",
       "    .dataframe tbody tr th {\n",
       "        vertical-align: top;\n",
       "    }\n",
       "\n",
       "    .dataframe thead th {\n",
       "        text-align: right;\n",
       "    }\n",
       "</style>\n",
       "<table border=\"1\" class=\"dataframe\">\n",
       "  <thead>\n",
       "    <tr style=\"text-align: right;\">\n",
       "      <th></th>\n",
       "      <th>year</th>\n",
       "      <th>playoffs</th>\n",
       "      <th>game</th>\n",
       "      <th>patch</th>\n",
       "      <th>playerid</th>\n",
       "      <th>gamelength</th>\n",
       "      <th>result</th>\n",
       "    </tr>\n",
       "  </thead>\n",
       "  <tbody>\n",
       "    <tr>\n",
       "      <th>0</th>\n",
       "      <td>2020.0</td>\n",
       "      <td>0.196368</td>\n",
       "      <td>1.657627</td>\n",
       "      <td>10.089272</td>\n",
       "      <td>100.0</td>\n",
       "      <td>1906.087646</td>\n",
       "      <td>0.563196</td>\n",
       "    </tr>\n",
       "  </tbody>\n",
       "</table>\n",
       "</div>"
      ],
      "text/plain": [
       "     year  playoffs      game      patch  playerid   gamelength    result\n",
       "0  2020.0  0.196368  1.657627  10.089272     100.0  1906.087646  0.563196"
      ]
     },
     "execution_count": 133,
     "metadata": {},
     "output_type": "execute_result"
    }
   ],
   "source": [
    "# obtenemos stats de datos generales del partido\n",
    "general_columns_red = redteamnum32[['year', 'playoffs', 'game', 'patch', 'playerid', 'gamelength', 'result']].mean(axis=0).to_frame().T\n",
    "general_columns_blue = blueteamnum32[['year', 'playoffs', 'game', 'patch', 'playerid', 'gamelength', 'result']].mean(axis=0).to_frame().T\n",
    "concat_teams = pd.concat([general_columns_red, general_columns_blue],ignore_index=True)\n",
    "concat_teams = concat_teams.mean(axis=0).to_frame().T\n",
    "concat_teams"
   ]
  },
  {
   "cell_type": "code",
   "execution_count": 200,
   "metadata": {},
   "outputs": [],
   "source": [
    "blueteamnum32 = blueteamnum32[blue_features]\n",
    "redteamnum32 = redteamnum32[red_features]\n",
    "blueteamnum32.drop(['blue_gspd', 'blue_golddiffat10', 'blue_xpdiffat10', 'blue_csdiffat10',\n",
    "       'blue_golddiffat15', 'blue_xpdiffat15', 'blue_csdiffat15'],  axis=1, inplace=True)\n",
    "blueteamnum32 = blueteamnum32.mean(axis=0).to_frame().T\n",
    "redteamnum32.drop(['red_gspd','red_golddiffat10', 'red_xpdiffat10', 'red_csdiffat10',\n",
    "       'red_golddiffat15', 'red_xpdiffat15', 'red_csdiffat15'],  axis=1, inplace=True)\n",
    "redteamnum32 = redteamnum32.mean(axis=0).to_frame().T"
   ]
  },
  {
   "cell_type": "code",
   "execution_count": 201,
   "metadata": {},
   "outputs": [
    {
     "data": {
      "text/html": [
       "<div>\n",
       "<style scoped>\n",
       "    .dataframe tbody tr th:only-of-type {\n",
       "        vertical-align: middle;\n",
       "    }\n",
       "\n",
       "    .dataframe tbody tr th {\n",
       "        vertical-align: top;\n",
       "    }\n",
       "\n",
       "    .dataframe thead th {\n",
       "        text-align: right;\n",
       "    }\n",
       "</style>\n",
       "<table border=\"1\" class=\"dataframe\">\n",
       "  <thead>\n",
       "    <tr style=\"text-align: right;\">\n",
       "      <th></th>\n",
       "      <th>blue_kills</th>\n",
       "      <th>blue_deaths</th>\n",
       "      <th>blue_ assists</th>\n",
       "      <th>blue_teamkills</th>\n",
       "      <th>blue_teamdeaths</th>\n",
       "      <th>blue_doublekills</th>\n",
       "      <th>blue_triplekills</th>\n",
       "      <th>blue_quadrakills</th>\n",
       "      <th>blue_pentakills</th>\n",
       "      <th>blue_firstblood</th>\n",
       "      <th>...</th>\n",
       "      <th>blue_monsterkills</th>\n",
       "      <th>blue_monsterkillsownjungle</th>\n",
       "      <th>blue_monsterkillsenemyjungle</th>\n",
       "      <th>blue_cspm</th>\n",
       "      <th>blue_goldat10</th>\n",
       "      <th>blue_xpat10</th>\n",
       "      <th>blue_csat10</th>\n",
       "      <th>blue_goldat15</th>\n",
       "      <th>blue_xpat15</th>\n",
       "      <th>blue_csat15</th>\n",
       "    </tr>\n",
       "  </thead>\n",
       "  <tbody>\n",
       "    <tr>\n",
       "      <th>0</th>\n",
       "      <td>18.0</td>\n",
       "      <td>13.885715</td>\n",
       "      <td>39.257141</td>\n",
       "      <td>18.0</td>\n",
       "      <td>13.885715</td>\n",
       "      <td>2.114286</td>\n",
       "      <td>0.2</td>\n",
       "      <td>0.028571</td>\n",
       "      <td>0.0</td>\n",
       "      <td>0.685714</td>\n",
       "      <td>...</td>\n",
       "      <td>210.857147</td>\n",
       "      <td>131.028564</td>\n",
       "      <td>25.828571</td>\n",
       "      <td>31.606985</td>\n",
       "      <td>15619.588867</td>\n",
       "      <td>17841.029297</td>\n",
       "      <td>308.823547</td>\n",
       "      <td>25339.792969</td>\n",
       "      <td>28648.058594</td>\n",
       "      <td>487.26474</td>\n",
       "    </tr>\n",
       "  </tbody>\n",
       "</table>\n",
       "<p>1 rows × 54 columns</p>\n",
       "</div>"
      ],
      "text/plain": [
       "   blue_kills  blue_deaths  blue_ assists  blue_teamkills  blue_teamdeaths  \\\n",
       "0        18.0    13.885715      39.257141            18.0        13.885715   \n",
       "\n",
       "   blue_doublekills  blue_triplekills  blue_quadrakills  blue_pentakills  \\\n",
       "0          2.114286               0.2          0.028571              0.0   \n",
       "\n",
       "   blue_firstblood  ...  blue_monsterkills  blue_monsterkillsownjungle  \\\n",
       "0         0.685714  ...         210.857147                  131.028564   \n",
       "\n",
       "   blue_monsterkillsenemyjungle  blue_cspm  blue_goldat10   blue_xpat10  \\\n",
       "0                     25.828571  31.606985   15619.588867  17841.029297   \n",
       "\n",
       "   blue_csat10  blue_goldat15   blue_xpat15  blue_csat15  \n",
       "0   308.823547   25339.792969  28648.058594    487.26474  \n",
       "\n",
       "[1 rows x 54 columns]"
      ]
     },
     "execution_count": 201,
     "metadata": {},
     "output_type": "execute_result"
    }
   ],
   "source": [
    "blueteamnum32"
   ]
  },
  {
   "cell_type": "code",
   "execution_count": 202,
   "metadata": {},
   "outputs": [
    {
     "data": {
      "text/html": [
       "<div>\n",
       "<style scoped>\n",
       "    .dataframe tbody tr th:only-of-type {\n",
       "        vertical-align: middle;\n",
       "    }\n",
       "\n",
       "    .dataframe tbody tr th {\n",
       "        vertical-align: top;\n",
       "    }\n",
       "\n",
       "    .dataframe thead th {\n",
       "        text-align: right;\n",
       "    }\n",
       "</style>\n",
       "<table border=\"1\" class=\"dataframe\">\n",
       "  <thead>\n",
       "    <tr style=\"text-align: right;\">\n",
       "      <th></th>\n",
       "      <th>red_deaths</th>\n",
       "      <th>red_assists</th>\n",
       "      <th>red_teamkills</th>\n",
       "      <th>red_teamdeaths</th>\n",
       "      <th>red_doublekills</th>\n",
       "      <th>red_triplekills</th>\n",
       "      <th>red_quadrakills</th>\n",
       "      <th>red_pentakills</th>\n",
       "      <th>red_firstblood</th>\n",
       "      <th>red_team_kpm</th>\n",
       "      <th>...</th>\n",
       "      <th>red_monsterkills</th>\n",
       "      <th>red_monsterkillsownjungle</th>\n",
       "      <th>red_monsterkillsenemyjungle</th>\n",
       "      <th>red_cspm</th>\n",
       "      <th>red_goldat10</th>\n",
       "      <th>red_xpat10</th>\n",
       "      <th>red_csat10</th>\n",
       "      <th>red_goldat15</th>\n",
       "      <th>red_xpat15</th>\n",
       "      <th>red_csat15</th>\n",
       "    </tr>\n",
       "  </thead>\n",
       "  <tbody>\n",
       "    <tr>\n",
       "      <th>0</th>\n",
       "      <td>12.254237</td>\n",
       "      <td>33.169491</td>\n",
       "      <td>13.644068</td>\n",
       "      <td>12.254237</td>\n",
       "      <td>1.603448</td>\n",
       "      <td>0.293103</td>\n",
       "      <td>0.086207</td>\n",
       "      <td>0.034483</td>\n",
       "      <td>0.576271</td>\n",
       "      <td>0.432415</td>\n",
       "      <td>...</td>\n",
       "      <td>209.745758</td>\n",
       "      <td>138.881363</td>\n",
       "      <td>16.508474</td>\n",
       "      <td>30.482168</td>\n",
       "      <td>15765.654297</td>\n",
       "      <td>18049.550781</td>\n",
       "      <td>309.655151</td>\n",
       "      <td>25094.050781</td>\n",
       "      <td>28920.449219</td>\n",
       "      <td>495.93103</td>\n",
       "    </tr>\n",
       "  </tbody>\n",
       "</table>\n",
       "<p>1 rows × 54 columns</p>\n",
       "</div>"
      ],
      "text/plain": [
       "   red_deaths  red_assists  red_teamkills  red_teamdeaths  red_doublekills  \\\n",
       "0   12.254237    33.169491      13.644068       12.254237         1.603448   \n",
       "\n",
       "   red_triplekills  red_quadrakills  red_pentakills  red_firstblood  \\\n",
       "0         0.293103         0.086207        0.034483        0.576271   \n",
       "\n",
       "   red_team_kpm  ...  red_monsterkills  red_monsterkillsownjungle  \\\n",
       "0      0.432415  ...        209.745758                 138.881363   \n",
       "\n",
       "   red_monsterkillsenemyjungle   red_cspm  red_goldat10    red_xpat10  \\\n",
       "0                    16.508474  30.482168  15765.654297  18049.550781   \n",
       "\n",
       "   red_csat10  red_goldat15    red_xpat15  red_csat15  \n",
       "0  309.655151  25094.050781  28920.449219   495.93103  \n",
       "\n",
       "[1 rows x 54 columns]"
      ]
     },
     "execution_count": 202,
     "metadata": {},
     "output_type": "execute_result"
    }
   ],
   "source": [
    "redteamnum32"
   ]
  },
  {
   "cell_type": "code",
   "execution_count": 205,
   "metadata": {},
   "outputs": [
    {
     "data": {
      "text/html": [
       "<div>\n",
       "<style scoped>\n",
       "    .dataframe tbody tr th:only-of-type {\n",
       "        vertical-align: middle;\n",
       "    }\n",
       "\n",
       "    .dataframe tbody tr th {\n",
       "        vertical-align: top;\n",
       "    }\n",
       "\n",
       "    .dataframe thead th {\n",
       "        text-align: right;\n",
       "    }\n",
       "</style>\n",
       "<table border=\"1\" class=\"dataframe\">\n",
       "  <thead>\n",
       "    <tr style=\"text-align: right;\">\n",
       "      <th></th>\n",
       "      <th>year</th>\n",
       "      <th>playoffs</th>\n",
       "      <th>game</th>\n",
       "      <th>patch</th>\n",
       "      <th>playerid</th>\n",
       "      <th>gamelength</th>\n",
       "      <th>result</th>\n",
       "      <th>blue_kills</th>\n",
       "      <th>blue_deaths</th>\n",
       "      <th>blue_ assists</th>\n",
       "      <th>...</th>\n",
       "      <th>red_monsterkills</th>\n",
       "      <th>red_monsterkillsownjungle</th>\n",
       "      <th>red_monsterkillsenemyjungle</th>\n",
       "      <th>red_cspm</th>\n",
       "      <th>red_goldat10</th>\n",
       "      <th>red_xpat10</th>\n",
       "      <th>red_csat10</th>\n",
       "      <th>red_goldat15</th>\n",
       "      <th>red_xpat15</th>\n",
       "      <th>red_csat15</th>\n",
       "    </tr>\n",
       "  </thead>\n",
       "  <tbody>\n",
       "    <tr>\n",
       "      <th>0</th>\n",
       "      <td>2020.0</td>\n",
       "      <td>0.196368</td>\n",
       "      <td>1.657627</td>\n",
       "      <td>10.089272</td>\n",
       "      <td>100.0</td>\n",
       "      <td>1906.087646</td>\n",
       "      <td>0.563196</td>\n",
       "      <td>18.0</td>\n",
       "      <td>13.885715</td>\n",
       "      <td>39.257141</td>\n",
       "      <td>...</td>\n",
       "      <td>209.745758</td>\n",
       "      <td>138.881363</td>\n",
       "      <td>16.508474</td>\n",
       "      <td>30.482168</td>\n",
       "      <td>15765.654297</td>\n",
       "      <td>18049.550781</td>\n",
       "      <td>309.655151</td>\n",
       "      <td>25094.050781</td>\n",
       "      <td>28920.449219</td>\n",
       "      <td>495.93103</td>\n",
       "    </tr>\n",
       "  </tbody>\n",
       "</table>\n",
       "<p>1 rows × 115 columns</p>\n",
       "</div>"
      ],
      "text/plain": [
       "     year  playoffs      game      patch  playerid   gamelength    result  \\\n",
       "0  2020.0  0.196368  1.657627  10.089272     100.0  1906.087646  0.563196   \n",
       "\n",
       "   blue_kills  blue_deaths  blue_ assists  ...  red_monsterkills  \\\n",
       "0        18.0    13.885715      39.257141  ...        209.745758   \n",
       "\n",
       "   red_monsterkillsownjungle  red_monsterkillsenemyjungle   red_cspm  \\\n",
       "0                 138.881363                    16.508474  30.482168   \n",
       "\n",
       "   red_goldat10    red_xpat10  red_csat10  red_goldat15    red_xpat15  \\\n",
       "0  15765.654297  18049.550781  309.655151  25094.050781  28920.449219   \n",
       "\n",
       "   red_csat15  \n",
       "0   495.93103  \n",
       "\n",
       "[1 rows x 115 columns]"
      ]
     },
     "execution_count": 205,
     "metadata": {},
     "output_type": "execute_result"
    }
   ],
   "source": [
    "simulate_match = pd.concat([concat_teams,blueteamnum32,redteamnum32], axis = 1)\n",
    "simulate_match"
   ]
  },
  {
   "cell_type": "code",
   "execution_count": 208,
   "metadata": {},
   "outputs": [
    {
     "data": {
      "text/plain": [
       "['year',\n",
       " 'playoffs',\n",
       " 'game',\n",
       " 'patch',\n",
       " 'playerid',\n",
       " 'gamelength',\n",
       " 'result',\n",
       " 'blue_kills',\n",
       " 'blue_deaths',\n",
       " 'blue_ assists',\n",
       " 'blue_teamkills',\n",
       " 'blue_teamdeaths',\n",
       " 'blue_doublekills',\n",
       " 'blue_triplekills',\n",
       " 'blue_quadrakills',\n",
       " 'blue_pentakills',\n",
       " 'blue_firstblood',\n",
       " 'blue_team_kpm',\n",
       " 'blue_ckpm',\n",
       " 'blue_firstdragon',\n",
       " 'blue_dragons',\n",
       " 'blue_elementaldrakes',\n",
       " 'blue_infernals',\n",
       " 'blue_mountains',\n",
       " 'blue_clouds',\n",
       " 'blue_oceans',\n",
       " 'blue_dragons(type_unknown)',\n",
       " 'blue_elders',\n",
       " 'blue_firstherald',\n",
       " 'blue_heralds',\n",
       " 'blue_firstbaron',\n",
       " 'blue_barons',\n",
       " 'blue_firsttower',\n",
       " 'blue_towers',\n",
       " 'blue_firstmidtower',\n",
       " 'blue_firsttothreetowers',\n",
       " 'blue_inhibitors',\n",
       " 'blue_damagetochampions',\n",
       " 'blue_dpm',\n",
       " 'blue_wardsplaced',\n",
       " 'blue_wpm',\n",
       " 'blue_wardskilled',\n",
       " 'blue_wcpm',\n",
       " 'blue_controlwardsbought',\n",
       " 'blue_visionscore',\n",
       " 'blue_vspm',\n",
       " 'blue_totalgold',\n",
       " 'blue_earnedgold',\n",
       " 'blue_earned_gpm',\n",
       " 'blue_goldspent',\n",
       " 'blue_minionkills',\n",
       " 'blue_monsterkills',\n",
       " 'blue_monsterkillsownjungle',\n",
       " 'blue_monsterkillsenemyjungle',\n",
       " 'blue_cspm',\n",
       " 'blue_goldat10',\n",
       " 'blue_xpat10',\n",
       " 'blue_csat10',\n",
       " 'blue_goldat15',\n",
       " 'blue_xpat15',\n",
       " 'blue_csat15',\n",
       " 'red_deaths',\n",
       " 'red_assists',\n",
       " 'red_teamkills',\n",
       " 'red_teamdeaths',\n",
       " 'red_doublekills',\n",
       " 'red_triplekills',\n",
       " 'red_quadrakills',\n",
       " 'red_pentakills',\n",
       " 'red_firstblood',\n",
       " 'red_team_kpm',\n",
       " 'red_ckpm',\n",
       " 'red_firstdragon',\n",
       " 'red_dragons',\n",
       " 'red_elementaldrakes',\n",
       " 'red_infernals',\n",
       " 'red_mountains',\n",
       " 'red_clouds',\n",
       " 'red_oceans',\n",
       " 'red_dragons(type_unknown)',\n",
       " 'red_elders',\n",
       " 'red_firstherald',\n",
       " 'red_heralds',\n",
       " 'red_firstbaron',\n",
       " 'red_barons',\n",
       " 'red_firsttower',\n",
       " 'red_towers',\n",
       " 'red_firstmidtower',\n",
       " 'red_firsttothreetowers',\n",
       " 'red_inhibitors',\n",
       " 'red_damagetochampions',\n",
       " 'red_dpm',\n",
       " 'red_wardsplaced',\n",
       " 'red_wpm',\n",
       " 'red_wardskilled',\n",
       " 'red_wcpm',\n",
       " 'red_controlwardsbought',\n",
       " 'red_visionscore',\n",
       " 'red_vspm',\n",
       " 'red_totalgold',\n",
       " 'red_earnedgold',\n",
       " 'red_earned_gpm',\n",
       " 'red_goldspent',\n",
       " 'red_total_cs',\n",
       " 'red_minionkills',\n",
       " 'red_monsterkills',\n",
       " 'red_monsterkillsownjungle',\n",
       " 'red_monsterkillsenemyjungle',\n",
       " 'red_cspm',\n",
       " 'red_goldat10',\n",
       " 'red_xpat10',\n",
       " 'red_csat10',\n",
       " 'red_goldat15',\n",
       " 'red_xpat15',\n",
       " 'red_csat15']"
      ]
     },
     "execution_count": 208,
     "metadata": {},
     "output_type": "execute_result"
    }
   ],
   "source": [
    "list(simulate_match.columns)"
   ]
  },
  {
   "cell_type": "code",
   "execution_count": 148,
   "metadata": {},
   "outputs": [],
   "source": [
    "#-----------------------------------------PUEDE QUE ESTE BLOQUE SOBRE-----------------------\n",
    "# quitamos la columnas que se quitaron en el entrenamiento del modelo\n",
    "simulate_match = simulate_match.drop(['result', 'year', 'playoffs','blue_gspd', 'blue_golddiffat10', 'blue_xpdiffat10', 'blue_csdiffat10',\n",
    "       'blue_golddiffat15', 'blue_xpdiffat15', 'blue_csdiffat15', 'red_gspd',\n",
    "       'red_golddiffat10', 'red_xpdiffat10', 'red_csdiffat10',\n",
    "       'red_golddiffat15', 'red_xpdiffat15', 'red_csdiffat15'], axis = 1)"
   ]
  },
  {
   "cell_type": "code",
   "execution_count": 150,
   "metadata": {},
   "outputs": [
    {
     "data": {
      "text/plain": [
       "pandas.core.frame.DataFrame"
      ]
     },
     "execution_count": 150,
     "metadata": {},
     "output_type": "execute_result"
    }
   ],
   "source": [
    "type(simulate_match)"
   ]
  },
  {
   "cell_type": "code",
   "execution_count": 204,
   "metadata": {},
   "outputs": [
    {
     "ename": "ValueError",
     "evalue": "feature_names mismatch: ['game', 'patch', 'playerid', 'gamelength', 'blue_kills', 'blue_deaths', 'blue_ assists', 'blue_teamkills', 'blue_teamdeaths', 'blue_doublekills', 'blue_triplekills', 'blue_quadrakills', 'blue_pentakills', 'blue_firstblood', 'blue_team_kpm', 'blue_ckpm', 'blue_firstdragon', 'blue_dragons', 'blue_elementaldrakes', 'blue_infernals', 'blue_mountains', 'blue_clouds', 'blue_oceans', 'blue_dragons(type_unknown)', 'blue_elders', 'blue_firstherald', 'blue_heralds', 'blue_firstbaron', 'blue_barons', 'blue_firsttower', 'blue_towers', 'blue_firstmidtower', 'blue_firsttothreetowers', 'blue_inhibitors', 'blue_damagetochampions', 'blue_dpm', 'blue_wardsplaced', 'blue_wpm', 'blue_wardskilled', 'blue_wcpm', 'blue_controlwardsbought', 'blue_visionscore', 'blue_vspm', 'blue_totalgold', 'blue_earnedgold', 'blue_earned_gpm', 'blue_goldspent', 'blue_total_cs', 'blue_minionkills', 'blue_monsterkills', 'blue_monsterkillsownjungle', 'blue_monsterkillsenemyjungle', 'blue_cspm', 'blue_goldat10', 'blue_xpat10', 'blue_csat10', 'blue_goldat15', 'blue_xpat15', 'blue_csat15', 'red_deaths', 'red_assists', 'red_teamkills', 'red_teamdeaths', 'red_doublekills', 'red_triplekills', 'red_quadrakills', 'red_pentakills', 'red_firstblood', 'red_team_kpm', 'red_ckpm', 'red_firstdragon', 'red_dragons', 'red_elementaldrakes', 'red_infernals', 'red_mountains', 'red_clouds', 'red_oceans', 'red_dragons(type_unknown)', 'red_elders', 'red_firstherald', 'red_heralds', 'red_firstbaron', 'red_barons', 'red_firsttower', 'red_towers', 'red_firstmidtower', 'red_firsttothreetowers', 'red_inhibitors', 'red_damagetochampions', 'red_dpm', 'red_wardsplaced', 'red_wpm', 'red_wardskilled', 'red_wcpm', 'red_controlwardsbought', 'red_visionscore', 'red_vspm', 'red_totalgold', 'red_earnedgold', 'red_earned_gpm', 'red_goldspent', 'red_total_cs', 'red_minionkills', 'red_monsterkills', 'red_monsterkillsownjungle', 'red_monsterkillsenemyjungle', 'red_cspm', 'red_goldat10', 'red_xpat10', 'red_csat10', 'red_goldat15', 'red_xpat15', 'red_csat15'] ['year', 'playoffs', 'game', 'patch', 'playerid', 'gamelength', 'result', 'blue_kills', 'blue_deaths', 'blue_ assists', 'blue_teamkills', 'blue_teamdeaths', 'blue_doublekills', 'blue_triplekills', 'blue_quadrakills', 'blue_pentakills', 'blue_firstblood', 'blue_team_kpm', 'blue_ckpm', 'blue_firstdragon', 'blue_dragons', 'blue_elementaldrakes', 'blue_infernals', 'blue_mountains', 'blue_clouds', 'blue_oceans', 'blue_dragons(type_unknown)', 'blue_elders', 'blue_firstherald', 'blue_heralds', 'blue_firstbaron', 'blue_barons', 'blue_firsttower', 'blue_towers', 'blue_firstmidtower', 'blue_firsttothreetowers', 'blue_inhibitors', 'blue_damagetochampions', 'blue_dpm', 'blue_wardsplaced', 'blue_wpm', 'blue_wardskilled', 'blue_wcpm', 'blue_controlwardsbought', 'blue_visionscore', 'blue_vspm', 'blue_totalgold', 'blue_earnedgold', 'blue_earned_gpm', 'blue_goldspent', 'blue_minionkills', 'blue_monsterkills', 'blue_monsterkillsownjungle', 'blue_monsterkillsenemyjungle', 'blue_cspm', 'blue_goldat10', 'blue_xpat10', 'blue_csat10', 'blue_goldat15', 'blue_xpat15', 'blue_csat15', 'red_deaths', 'red_assists', 'red_teamkills', 'red_teamdeaths', 'red_doublekills', 'red_triplekills', 'red_quadrakills', 'red_pentakills', 'red_firstblood', 'red_team_kpm', 'red_ckpm', 'red_firstdragon', 'red_dragons', 'red_elementaldrakes', 'red_infernals', 'red_mountains', 'red_clouds', 'red_oceans', 'red_dragons(type_unknown)', 'red_elders', 'red_firstherald', 'red_heralds', 'red_firstbaron', 'red_barons', 'red_firsttower', 'red_towers', 'red_firstmidtower', 'red_firsttothreetowers', 'red_inhibitors', 'red_damagetochampions', 'red_dpm', 'red_wardsplaced', 'red_wpm', 'red_wardskilled', 'red_wcpm', 'red_controlwardsbought', 'red_visionscore', 'red_vspm', 'red_totalgold', 'red_earnedgold', 'red_earned_gpm', 'red_goldspent', 'red_total_cs', 'red_minionkills', 'red_monsterkills', 'red_monsterkillsownjungle', 'red_monsterkillsenemyjungle', 'red_cspm', 'red_goldat10', 'red_xpat10', 'red_csat10', 'red_goldat15', 'red_xpat15', 'red_csat15']\nexpected blue_total_cs in input data\ntraining data did not have the following fields: playoffs, year, result",
     "output_type": "error",
     "traceback": [
      "\u001b[1;31m---------------------------------------------------------------------------\u001b[0m",
      "\u001b[1;31mValueError\u001b[0m                                Traceback (most recent call last)",
      "\u001b[1;32m<ipython-input-204-09b8f6cfb6c4>\u001b[0m in \u001b[0;36m<module>\u001b[1;34m\u001b[0m\n\u001b[1;32m----> 1\u001b[1;33m \u001b[0mpreds_game\u001b[0m \u001b[1;33m=\u001b[0m \u001b[0mxg_reg\u001b[0m\u001b[1;33m.\u001b[0m\u001b[0mpredict\u001b[0m\u001b[1;33m(\u001b[0m\u001b[0msimulate_match\u001b[0m\u001b[1;33m)\u001b[0m\u001b[1;33m\u001b[0m\u001b[1;33m\u001b[0m\u001b[0m\n\u001b[0m",
      "\u001b[1;32m~\\AppData\\Roaming\\Python\\Python38\\site-packages\\xgboost\\sklearn.py\u001b[0m in \u001b[0;36mpredict\u001b[1;34m(self, data, output_margin, ntree_limit, validate_features, base_margin)\u001b[0m\n\u001b[0;32m    599\u001b[0m         \u001b[1;32mif\u001b[0m \u001b[0mntree_limit\u001b[0m \u001b[1;32mis\u001b[0m \u001b[1;32mNone\u001b[0m\u001b[1;33m:\u001b[0m\u001b[1;33m\u001b[0m\u001b[1;33m\u001b[0m\u001b[0m\n\u001b[0;32m    600\u001b[0m             \u001b[0mntree_limit\u001b[0m \u001b[1;33m=\u001b[0m \u001b[0mgetattr\u001b[0m\u001b[1;33m(\u001b[0m\u001b[0mself\u001b[0m\u001b[1;33m,\u001b[0m \u001b[1;34m\"best_ntree_limit\"\u001b[0m\u001b[1;33m,\u001b[0m \u001b[1;36m0\u001b[0m\u001b[1;33m)\u001b[0m\u001b[1;33m\u001b[0m\u001b[1;33m\u001b[0m\u001b[0m\n\u001b[1;32m--> 601\u001b[1;33m         return self.get_booster().predict(test_dmatrix,\n\u001b[0m\u001b[0;32m    602\u001b[0m                                           \u001b[0moutput_margin\u001b[0m\u001b[1;33m=\u001b[0m\u001b[0moutput_margin\u001b[0m\u001b[1;33m,\u001b[0m\u001b[1;33m\u001b[0m\u001b[1;33m\u001b[0m\u001b[0m\n\u001b[0;32m    603\u001b[0m                                           \u001b[0mntree_limit\u001b[0m\u001b[1;33m=\u001b[0m\u001b[0mntree_limit\u001b[0m\u001b[1;33m,\u001b[0m\u001b[1;33m\u001b[0m\u001b[1;33m\u001b[0m\u001b[0m\n",
      "\u001b[1;32m~\\AppData\\Roaming\\Python\\Python38\\site-packages\\xgboost\\core.py\u001b[0m in \u001b[0;36mpredict\u001b[1;34m(self, data, output_margin, ntree_limit, pred_leaf, pred_contribs, approx_contribs, pred_interactions, validate_features, training)\u001b[0m\n\u001b[0;32m   1362\u001b[0m \u001b[1;33m\u001b[0m\u001b[0m\n\u001b[0;32m   1363\u001b[0m         \u001b[1;32mif\u001b[0m \u001b[0mvalidate_features\u001b[0m\u001b[1;33m:\u001b[0m\u001b[1;33m\u001b[0m\u001b[1;33m\u001b[0m\u001b[0m\n\u001b[1;32m-> 1364\u001b[1;33m             \u001b[0mself\u001b[0m\u001b[1;33m.\u001b[0m\u001b[0m_validate_features\u001b[0m\u001b[1;33m(\u001b[0m\u001b[0mdata\u001b[0m\u001b[1;33m)\u001b[0m\u001b[1;33m\u001b[0m\u001b[1;33m\u001b[0m\u001b[0m\n\u001b[0m\u001b[0;32m   1365\u001b[0m \u001b[1;33m\u001b[0m\u001b[0m\n\u001b[0;32m   1366\u001b[0m         \u001b[0mlength\u001b[0m \u001b[1;33m=\u001b[0m \u001b[0mc_bst_ulong\u001b[0m\u001b[1;33m(\u001b[0m\u001b[1;33m)\u001b[0m\u001b[1;33m\u001b[0m\u001b[1;33m\u001b[0m\u001b[0m\n",
      "\u001b[1;32m~\\AppData\\Roaming\\Python\\Python38\\site-packages\\xgboost\\core.py\u001b[0m in \u001b[0;36m_validate_features\u001b[1;34m(self, data)\u001b[0m\n\u001b[0;32m   1933\u001b[0m                             ', '.join(str(s) for s in my_missing))\n\u001b[0;32m   1934\u001b[0m \u001b[1;33m\u001b[0m\u001b[0m\n\u001b[1;32m-> 1935\u001b[1;33m                 raise ValueError(msg.format(self.feature_names,\n\u001b[0m\u001b[0;32m   1936\u001b[0m                                             data.feature_names))\n\u001b[0;32m   1937\u001b[0m \u001b[1;33m\u001b[0m\u001b[0m\n",
      "\u001b[1;31mValueError\u001b[0m: feature_names mismatch: ['game', 'patch', 'playerid', 'gamelength', 'blue_kills', 'blue_deaths', 'blue_ assists', 'blue_teamkills', 'blue_teamdeaths', 'blue_doublekills', 'blue_triplekills', 'blue_quadrakills', 'blue_pentakills', 'blue_firstblood', 'blue_team_kpm', 'blue_ckpm', 'blue_firstdragon', 'blue_dragons', 'blue_elementaldrakes', 'blue_infernals', 'blue_mountains', 'blue_clouds', 'blue_oceans', 'blue_dragons(type_unknown)', 'blue_elders', 'blue_firstherald', 'blue_heralds', 'blue_firstbaron', 'blue_barons', 'blue_firsttower', 'blue_towers', 'blue_firstmidtower', 'blue_firsttothreetowers', 'blue_inhibitors', 'blue_damagetochampions', 'blue_dpm', 'blue_wardsplaced', 'blue_wpm', 'blue_wardskilled', 'blue_wcpm', 'blue_controlwardsbought', 'blue_visionscore', 'blue_vspm', 'blue_totalgold', 'blue_earnedgold', 'blue_earned_gpm', 'blue_goldspent', 'blue_total_cs', 'blue_minionkills', 'blue_monsterkills', 'blue_monsterkillsownjungle', 'blue_monsterkillsenemyjungle', 'blue_cspm', 'blue_goldat10', 'blue_xpat10', 'blue_csat10', 'blue_goldat15', 'blue_xpat15', 'blue_csat15', 'red_deaths', 'red_assists', 'red_teamkills', 'red_teamdeaths', 'red_doublekills', 'red_triplekills', 'red_quadrakills', 'red_pentakills', 'red_firstblood', 'red_team_kpm', 'red_ckpm', 'red_firstdragon', 'red_dragons', 'red_elementaldrakes', 'red_infernals', 'red_mountains', 'red_clouds', 'red_oceans', 'red_dragons(type_unknown)', 'red_elders', 'red_firstherald', 'red_heralds', 'red_firstbaron', 'red_barons', 'red_firsttower', 'red_towers', 'red_firstmidtower', 'red_firsttothreetowers', 'red_inhibitors', 'red_damagetochampions', 'red_dpm', 'red_wardsplaced', 'red_wpm', 'red_wardskilled', 'red_wcpm', 'red_controlwardsbought', 'red_visionscore', 'red_vspm', 'red_totalgold', 'red_earnedgold', 'red_earned_gpm', 'red_goldspent', 'red_total_cs', 'red_minionkills', 'red_monsterkills', 'red_monsterkillsownjungle', 'red_monsterkillsenemyjungle', 'red_cspm', 'red_goldat10', 'red_xpat10', 'red_csat10', 'red_goldat15', 'red_xpat15', 'red_csat15'] ['year', 'playoffs', 'game', 'patch', 'playerid', 'gamelength', 'result', 'blue_kills', 'blue_deaths', 'blue_ assists', 'blue_teamkills', 'blue_teamdeaths', 'blue_doublekills', 'blue_triplekills', 'blue_quadrakills', 'blue_pentakills', 'blue_firstblood', 'blue_team_kpm', 'blue_ckpm', 'blue_firstdragon', 'blue_dragons', 'blue_elementaldrakes', 'blue_infernals', 'blue_mountains', 'blue_clouds', 'blue_oceans', 'blue_dragons(type_unknown)', 'blue_elders', 'blue_firstherald', 'blue_heralds', 'blue_firstbaron', 'blue_barons', 'blue_firsttower', 'blue_towers', 'blue_firstmidtower', 'blue_firsttothreetowers', 'blue_inhibitors', 'blue_damagetochampions', 'blue_dpm', 'blue_wardsplaced', 'blue_wpm', 'blue_wardskilled', 'blue_wcpm', 'blue_controlwardsbought', 'blue_visionscore', 'blue_vspm', 'blue_totalgold', 'blue_earnedgold', 'blue_earned_gpm', 'blue_goldspent', 'blue_minionkills', 'blue_monsterkills', 'blue_monsterkillsownjungle', 'blue_monsterkillsenemyjungle', 'blue_cspm', 'blue_goldat10', 'blue_xpat10', 'blue_csat10', 'blue_goldat15', 'blue_xpat15', 'blue_csat15', 'red_deaths', 'red_assists', 'red_teamkills', 'red_teamdeaths', 'red_doublekills', 'red_triplekills', 'red_quadrakills', 'red_pentakills', 'red_firstblood', 'red_team_kpm', 'red_ckpm', 'red_firstdragon', 'red_dragons', 'red_elementaldrakes', 'red_infernals', 'red_mountains', 'red_clouds', 'red_oceans', 'red_dragons(type_unknown)', 'red_elders', 'red_firstherald', 'red_heralds', 'red_firstbaron', 'red_barons', 'red_firsttower', 'red_towers', 'red_firstmidtower', 'red_firsttothreetowers', 'red_inhibitors', 'red_damagetochampions', 'red_dpm', 'red_wardsplaced', 'red_wpm', 'red_wardskilled', 'red_wcpm', 'red_controlwardsbought', 'red_visionscore', 'red_vspm', 'red_totalgold', 'red_earnedgold', 'red_earned_gpm', 'red_goldspent', 'red_total_cs', 'red_minionkills', 'red_monsterkills', 'red_monsterkillsownjungle', 'red_monsterkillsenemyjungle', 'red_cspm', 'red_goldat10', 'red_xpat10', 'red_csat10', 'red_goldat15', 'red_xpat15', 'red_csat15']\nexpected blue_total_cs in input data\ntraining data did not have the following fields: playoffs, year, result"
     ]
    }
   ],
   "source": [
    "preds_game = xg_reg.predict(simulate_match)"
   ]
  },
  {
   "cell_type": "code",
   "execution_count": 152,
   "metadata": {},
   "outputs": [
    {
     "data": {
      "text/plain": [
       "<xgboost.core.Booster at 0x1e248ef5af0>"
      ]
     },
     "execution_count": 152,
     "metadata": {},
     "output_type": "execute_result"
    }
   ],
   "source": [
    "xg_reg"
   ]
  },
  {
   "cell_type": "code",
   "execution_count": null,
   "metadata": {},
   "outputs": [],
   "source": [
    "#simulate_match revisar columnas, que sean iguales a las columnas qeu use de entrenamiento"
   ]
  }
 ],
 "metadata": {
  "kernelspec": {
   "display_name": "Python 3",
   "language": "python",
   "name": "python3"
  },
  "language_info": {
   "codemirror_mode": {
    "name": "ipython",
    "version": 3
   },
   "file_extension": ".py",
   "mimetype": "text/x-python",
   "name": "python",
   "nbconvert_exporter": "python",
   "pygments_lexer": "ipython3",
   "version": "3.8.5"
  }
 },
 "nbformat": 4,
 "nbformat_minor": 4
}
